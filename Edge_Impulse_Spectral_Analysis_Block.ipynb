{
  "cells": [
    {
      "cell_type": "markdown",
      "id": "09cf0268",
      "metadata": {
        "id": "09cf0268"
      },
      "source": [
        "# Edge Impulse - Bloco de análise espectral\n",
        "[![Abra no Colab <](https://colab.research.google.com/assets/colab-badge.svg)](https://colab.research.google.com/github/fabiobento/continuous-motion-recognition/blob/main/Edge_Impulse_Spectral_Analysis_Block.ipynb)"
      ]
    },
    {
      "cell_type": "markdown",
      "id": "a34391fe",
      "metadata": {},
      "source": [
        "## FFT\n",
        "### Características estatísticas(domínio do tempo) por eixo/canal:\n",
        "Após a filtragem por meio de um filtro Butterworth IIR (se ativado), **a média é subtraída do sinal.** e são calculados:\n",
        "- RMS\n",
        "- Skewness\n",
        "- Curtose\n",
        "\n",
        "### Características espectrais (domínio de frequência) por eixo/canal:\n",
        "- Potência espectral\n",
        "- Skewness\n",
        "- Curtose\n",
        "\n",
        "\n",
        "### Potência espectral\n",
        "O sinal filtrado é passado para a seção de potência espectral(_spectral power_), que calcula a **FFT** para calcular as características espectrais.\n",
        "- A janela será dividida em quadros (ou “subjanelas”), e a FFT é calculada a partir de cada quadro.\n",
        "- O comprimento da FFT determina o número de compartimentos(_bins_) da FFT, bem como a resolução dos picos de frequência que você pode separar. \n",
        "- O número total de recursos de potência espectral será alterado, dependendo de como você definir os parâmetros de filtro e FFT. Sem filtragem, o número de recursos é 1/2 do comprimento da FFT \n",
        "\n",
        "https://docs.edgeimpulse.com/docs/edge-impulse-studio/processing-blocks/spectral-features"
      ]
    },
    {
      "cell_type": "markdown",
      "id": "b3600275",
      "metadata": {
        "id": "b3600275"
      },
      "source": [
        "## Wavelets\n",
        "No caso das **Wavelets**, os recursos extraídos são recursos estatísticos, recursos de cruzamento e recursos de entropia (14 por camada): \n",
        "\n",
        "- `[11] Recursos`: são calculados **n5, n25, n75, n95, média, mediana, desvio padrão (std), variância (var) e raiz quadrada média (rms), curtose e assimetria (skew)**. \n",
        "\n",
        "- `[2] Recursos`: **Taxa de cruzamento zero (zcross) e taxa de cruzamento médio (mcross)** são as vezes em que o sinal passa pela linha de base y = 0 e pelo nível médio y = u por unidade de tempo, respectivamente\n",
        "\n",
        "- `[1] Recurso`: Os recursos de **Entropia** são uma medida característica da complexidade do sinal\n",
        "\n",
        "- Todos os 14 valores são calculados para cada camada (incluindo L0, o sinal original)\n",
        "\n",
        "- `[Inputs]`: O **nível de decomposição de wavelet** (*1, 2, ...*) e o tipo de **Wavelet** (*bior1.3, db2, ...*) a ser usado devem ser definidos. Se, por exemplo, o nível 1 for escolhido, L0 e L1 serão usados para o cálculo do recurso.\n",
        "\n",
        "- O número total de recursos mudará, dependendo de como você definir o filtro e o número de camadas. Por exemplo, com a filtragem **[None]** e o nível **[1]**, o número de recursos por eixo será 14 x 2 (L0 e L1) = 28. Para 6 eixos, teremos um total de 168 recursos. "
      ]
    },
    {
      "cell_type": "markdown",
      "id": "d7709a8a",
      "metadata": {
        "id": "d7709a8a"
      },
      "source": [
        "## Características Estatísticas"
      ]
    },
    {
      "cell_type": "code",
      "execution_count": 4,
      "id": "fab98064",
      "metadata": {
        "id": "fab98064",
        "tags": []
      },
      "outputs": [],
      "source": [
        "import numpy as np\n",
        "import matplotlib.pyplot as plt \n",
        "import seaborn as sns\n",
        "import math\n",
        "from scipy.stats import skew, kurtosis\n",
        "from scipy import signal\n",
        "from scipy.signal import welch\n",
        "from scipy.stats import entropy\n",
        "from sklearn import preprocessing\n",
        "import pywt"
      ]
    },
    {
      "cell_type": "code",
      "execution_count": 5,
      "id": "qpknwnPf6bZf",
      "metadata": {
        "id": "qpknwnPf6bZf"
      },
      "outputs": [],
      "source": [
        "plt.rcParams['figure.figsize'] = (12, 6)\n",
        "plt.rcParams['lines.linewidth'] = 3"
      ]
    },
    {
      "cell_type": "markdown",
      "id": "zFWgKmiryotk",
      "metadata": {
        "id": "zFWgKmiryotk"
      },
      "source": [
        "## Funções"
      ]
    },
    {
      "cell_type": "code",
      "execution_count": 19,
      "id": "cNuRjksr6tw1",
      "metadata": {
        "id": "cNuRjksr6tw1"
      },
      "outputs": [],
      "source": [
        "def plot_data(sensors, axis, title):\n",
        "    [plt.plot(x, label=y) for x,y in zip(sensors, axis)]\n",
        "    plt.legend(loc='lower right')\n",
        "    plt.title(title)\n",
        "    plt.xlabel('#Amostra')\n",
        "    plt.ylabel('Valor')\n",
        "    plt.box(False)\n",
        "    plt.grid()\n",
        "    plt.show()"
      ]
    },
    {
      "cell_type": "markdown",
      "id": "84243035",
      "metadata": {},
      "source": [
        "Vamos obter uma amostra de dados de acelerômetros (janela de 2 segundos; frequência de amostragem de 62,5 Hz)"
      ]
    },
    {
      "cell_type": "markdown",
      "id": "986caadc",
      "metadata": {},
      "source": [
        "<figure>\n",
        "    <center> <img src=\"https://github.com/fabiobento/continuous-motion-recognition/raw/main/images/features.png\"  alt='missing' width=\"800\"  ><center/>\n",
        "<figure/>"
      ]
    },
    {
      "cell_type": "code",
      "execution_count": 8,
      "id": "OF6KGzze5CYs",
      "metadata": {
        "colab": {
          "base_uri": "https://localhost:8080/"
        },
        "id": "OF6KGzze5CYs",
        "outputId": "f33c7266-bfdc-4f35-a0ee-c56ba797e62d"
      },
      "outputs": [
        {
          "name": "stdout",
          "output_type": "stream",
          "text": [
            "Frequência = 62.5Hz\n",
            "Janela = 2s\n",
            "Quantidade de sensores = 3\n"
          ]
        }
      ],
      "source": [
        "f =  62.5  # Hertz\n",
        "wind_sec = 2 # seconds\n",
        "axis = ['accX', 'accY', 'accZ']\n",
        "n_sensors = len(axis)\n",
        "print (f'Frequência = {f}Hz')\n",
        "print (f'Janela = {wind_sec}s')\n",
        "print (f'Quantidade de sensores = {len(axis)}')"
      ]
    },
    {
      "cell_type": "code",
      "execution_count": 14,
      "id": "71fccf7c",
      "metadata": {
        "colab": {
          "base_uri": "https://localhost:8080/"
        },
        "id": "71fccf7c",
        "outputId": "d5cbec09-cc06-4caf-d274-6bea7701e245",
        "tags": []
      },
      "outputs": [
        {
          "name": "stdout",
          "output_type": "stream",
          "text": [
            "Quantidade de características brutas: 375;\n",
            "N= 125 (quantidade de características por eixo)\n"
          ]
        }
      ],
      "source": [
        "data=[-5.6330, 0.2376, 9.8701, -5.9442, 0.4830, 9.8701, -5.4217, 0.9433, 9.8521, -4.1474, 0.5261, 9.8246, -0.4896, -0.2592, 9.7217, -1.9465, 0.1472, 9.9108, -4.8261, 0.0449, 9.8964, -5.8861, 0.6291, 9.8988, -3.6248, 0.6734, 9.8731, -3.2585, 0.5866, 9.8491, -3.2304, 0.3358, 9.9000, -2.4187, -0.1071, 9.8593, -1.6017, -0.5381, 9.7941, -2.2577, -0.1760, 9.7803, -1.2438, -0.2873, 9.8438, -0.9978, 0.4076, 9.6696, -1.3210, -1.6514, 9.9754, -2.3337, -0.6740, 9.8084, -2.1272, -0.7195, 9.8330, -0.9792, -0.5584, 9.8013, 0.4615, 0.3041, 9.8306, 0.4076, 0.1861, 9.8390, -0.2682, -0.3226, 9.8043, 1.8477, 0.0377, 9.7977, 0.7560, -0.3166, 9.8072, 0.4764, -0.2215, 9.9084, 1.5724, -0.2274, 9.6744, 3.5195, -1.0169, 9.8234, 5.0560, -0.7021, 9.8270, 1.5137, -2.2853, 9.7875, 2.4044, 0.3328, 9.7582, 6.3111, -1.8765, 9.8288, 1.7196, -0.7302, 9.8623, 2.9999, -0.3268, 9.6516, 2.0800, -1.0092, 10.0347, 0.2867, -0.2406, 9.9653, 4.7908, -2.2739, 9.5343, -0.2652, 2.5833, 11.1749, 5.4857, -1.2103, 9.5672, 3.6763, -2.2194, 9.7282, 2.3888, -1.7867, 9.8276, 2.8802, -1.1588, 9.8970, 2.3320, -1.4042, 9.7977, 2.0650, -0.6913, 9.8228, 2.4505, -0.6297, 9.8025, 1.2851, -0.4441, 9.8354, 1.5113, -0.2927, 9.8282, 1.5616, 0.2173, 9.8090, 1.0199, 0.9936, 9.9192, 1.0570, 0.2257, 9.9317, 0.5112, 0.0192, 9.8336, -0.2867, -0.6770, 9.8180, -0.2017, -1.1558, 9.8192, -0.3322, -0.9535, 9.7665, -0.9379, -0.4998, 9.7588, -1.2540, -0.3106, 9.8240, -1.5287, 0.0634, 9.9108, -2.6606, 0.5758, 9.8779, -3.2723, 0.6482, 9.8761, -4.0121, 0.3585, 9.8462, -4.4945, 1.2276, 9.9042, -4.5849, 1.7909, 9.9000, -4.4335, 1.6777, 9.9060, -5.1697, 1.1486, 9.9377, -3.9115, 0.7159, 9.8857, -1.8699, -0.5561, 9.8845, -1.1618, 0.1490, 9.8497, -3.2902, 0.6542, 9.8683, -5.5055, 0.7530, 9.8845, -5.1739, 0.7482, 9.8821, -3.6524, 0.5028, 9.8641, -3.2645, 0.1778, 9.8629, -3.2423, -0.0048, 9.8970, -1.6729, 0.0311, 9.8013, -0.3244, -0.3364, 9.7839, -0.9966, -0.6692, 9.8761, -1.9950, -0.2113, 9.8964, -2.0075, 0.3011, 9.7965, -1.8633, 0.3370, 9.9288, -0.8739, 0.5926, 9.8162, -0.4046, 0.3974, 9.8665, 0.4830, -0.6788, 9.8659, 0.6201, -0.8948, 9.8312, 0.8027, -0.8200, 9.7725, 0.5213, -0.6087, 9.8126, 0.0275, -0.5608, 9.7713, 0.2412, -0.1885, 9.8665, 0.7596, -0.0581, 9.8521, 0.6907, -0.5483, 9.8881, 0.3244, -0.9978, 9.7773, 1.0576, -0.6584, 9.7887, 2.0722, -0.2753, 9.8120, 1.4647, -0.2221, 9.8928, 1.4617, 0.1341, 9.8120, 2.2188, -0.0329, 9.7773, 3.6859, -0.5171, 9.9084, 1.9172, -0.9744, 9.8019, 1.7095, -0.6734, 9.8061, 3.4327, -1.1205, 9.8372, 3.4399, -0.9679, 9.8342, 2.4307, -1.3473, 9.8240, 1.1283, -0.1945, 9.9479, 6.9707, -0.0946, 9.6744, 3.0957, -1.3120, 9.8617, 3.1448, -1.0924, 9.7701, 2.9862, -1.1349, 9.8144, 2.6073, -0.7344, 9.8025, 2.0824, -0.6955, 9.8396, 1.9932, -0.6812, 9.7809, 1.6640, -0.3089, 9.8845, 2.6833, -0.2879, 9.7929, 2.3272, -0.1706, 9.8288, 1.3761, -0.3537, 9.9228, 0.9643, -1.0145, 9.8318, 1.3420, -1.1498, 9.8360, 0.9942, -0.7326, 9.8288, 0.1395, -0.3202, 9.8695, -0.2993, -0.3220, 9.8527, -0.6967, -0.3980, 9.8360, -1.4706, -0.1879, 9.8342, -1.9974, 0.5267, 9.8474, -2.1883, 0.5584, 9.8695, -2.3409, 0.4447, 9.8815, -3.1214, 0.1730, 9.9168, -3.1502, -0.0156, 9.9174]\n",
        "No_raw_features = len(data)\n",
        "N = int(No_raw_features/n_sensors)\n",
        "print (f\"Quantidade de características brutas: {No_raw_features};\\nN= {N} (quantidade de características por eixo)\")"
      ]
    },
    {
      "cell_type": "code",
      "execution_count": 15,
      "id": "ErJTcFPQpLv0",
      "metadata": {
        "id": "ErJTcFPQpLv0"
      },
      "outputs": [],
      "source": [
        "# Características Processadas\n",
        "features = [2.7322, -0.0978, -0.3813, 2.3980, 3.8924, 24.6841, 9.6303, 8.4867, 7.7793, 2.9963, 5.6242, 3.4198, 4.2735, 0.7833, 0.1735, 1.1696, 0.9426, -0.8039, 5.4290, 0.9990, 1.0315, 0.9459, 1.8117, 0.9088, 1.3302, 3.1120, 0.1383, 6.8629, 65.3726, 0.3117, -1.3812, 0.0606, 0.0570, 0.0567, 0.0976, 0.1940, 0.2574, 0.2083, 0.1660]\n",
        "N_feat = len(features)\n",
        "N_feat_axis = int(N_feat/n_sensors)"
      ]
    },
    {
      "cell_type": "code",
      "execution_count": 16,
      "id": "YEe0_xxA5rO4",
      "metadata": {
        "colab": {
          "base_uri": "https://localhost:8080/"
        },
        "id": "YEe0_xxA5rO4",
        "outputId": "53fcd89d-07ff-4797-e3eb-88b0ae2926b2"
      },
      "outputs": [
        {
          "name": "stdout",
          "output_type": "stream",
          "text": [
            " - Número total de recursos sem filtragem: 39\n",
            " - Número total de recursos estatísticos : 9\n",
            " - Número total de recursos espectrais : 30\n",
            " - Total Número de recursos por eixo: 13\n"
          ]
        }
      ],
      "source": [
        "print(f' - Número total de recursos sem filtragem: {N_feat}')\n",
        "print(f' - Número total de recursos estatísticos : {3*n_sensors}')\n",
        "print(f' - Número total de recursos espectrais : {N_feat-3*n_sensors}')\n",
        "print(f' - Total Número de recursos por eixo: {N_feat_axis}')"
      ]
    },
    {
      "cell_type": "markdown",
      "id": "k4i6vVzLpc3w",
      "metadata": {
        "id": "k4i6vVzLpc3w"
      },
      "source": [
        "- 3 Recursos estatísticos (tempo) por eixo --> Total: 9 recursos \n",
        "- 8 Recursos de potência espectral (Freq) por eixo --> Total: 24 recursos\n",
        "- 2 Skew/Kurtosis espectral (freq) por eixo -> Total: 6 recursos\n",
        "- Total de recursos processados = 9+24+6 = 39"
      ]
    },
    {
      "cell_type": "markdown",
      "id": "ssfHnJrARo9E",
      "metadata": {
        "id": "ssfHnJrARo9E"
      },
      "source": [
        "Recursos por eixo: `[rms] [skew] [kurtosis] [spectral skew] [spectral kurtosis] [Spectral Power 1] ... [Spectral Power 8]`"
      ]
    },
    {
      "cell_type": "markdown",
      "id": "VH0WD0Plp0mN",
      "metadata": {
        "id": "VH0WD0Plp0mN"
      },
      "source": [
        "### Dividir dados brutos por sensor"
      ]
    },
    {
      "cell_type": "code",
      "execution_count": 17,
      "id": "V_n1eRSgprat",
      "metadata": {
        "id": "V_n1eRSgprat"
      },
      "outputs": [],
      "source": [
        "accX = data[0::3]\n",
        "accY = data[1::3]\n",
        "accZ = data[2::3]\n",
        "sensors = [accX, accY, accZ]"
      ]
    },
    {
      "cell_type": "code",
      "execution_count": 21,
      "id": "NnV3duEy6qaF",
      "metadata": {
        "colab": {
          "base_uri": "https://localhost:8080/",
          "height": 404
        },
        "id": "NnV3duEy6qaF",
        "outputId": "5bd37fc5-79e4-4c77-9fcb-0ec64a6340d5"
      },
      "outputs": [
        {
          "data": {
            "image/png": "[encoded data removed]",
            "text/plain": [
              "<Figure size 1200x600 with 1 Axes>"
            ]
          },
          "metadata": {},
          "output_type": "display_data"
        }
      ],
      "source": [
        "plot_data(sensors, axis, 'Características Brutas')"
      ]
    },
    {
      "cell_type": "markdown",
      "id": "1HM68NXkdFuK",
      "metadata": {
        "id": "1HM68NXkdFuK"
      },
      "source": [
        "### Subtrating the mean from data\n",
        "Subtracting the mean from a set of data is a common data pre-processing step in statistics and machine learning. The purpose of subtracting the mean from data is to center the data around zero. This is important because it can reveal patterns and relationships that might be hidden if the data is not centered.\n",
        "\n",
        "Here are some specific reasons why subtracting the mean can be useful:\n",
        "\n",
        "- It simplifies analysis: By centering the data, the mean becomes zero, which can make some calculations simpler and easier to interpret.\n",
        "- It removes bias: If the data has a bias, subtracting the mean can remove that bias and allow for more accurate analysis.\n",
        "- It can reveal patterns: Centering the data can help reveal patterns that might be hidden if the data is not centered. For example, if you are analyzing a time series dataset, centering the data can help you identify trends over time.\n",
        "- It can improve performance: In some machine learning algorithms, centering the data can improve performance by reducing the influence of outliers and making the data more easily comparable.\n",
        "Overall, subtracting the mean is a simple but powerful technique that can be used to improve the analysis and interpretation of data."
      ]
    },
    {
      "cell_type": "code",
      "execution_count": null,
      "id": "bp3B8C2GYGZn",
      "metadata": {
        "colab": {
          "base_uri": "https://localhost:8080/"
        },
        "id": "bp3B8C2GYGZn",
        "outputId": "b5e584ab-5e34-4e79-aa93-2259fc4f5b1e",
        "tags": []
      },
      "outputs": [],
      "source": [
        "dtmean = [(sum(x)/len(x)) for x in sensors]\n",
        "[print('mean_'+x+'= ', round(y, 4)) for x,y in zip(axis, dtmean)][0]"
      ]
    },
    {
      "cell_type": "code",
      "execution_count": null,
      "id": "2r5gwXD6Y52i",
      "metadata": {
        "id": "2r5gwXD6Y52i",
        "tags": []
      },
      "outputs": [],
      "source": [
        "accX = [(x - dtmean[0]) for x in accX]\n",
        "accY = [(x - dtmean[1]) for x in accY]\n",
        "accZ = [(x - dtmean[2]) for x in accZ]\n",
        "sensors = [accX, accY, accZ]"
      ]
    },
    {
      "cell_type": "code",
      "execution_count": null,
      "id": "_8SKQqGz7CSB",
      "metadata": {
        "colab": {
          "base_uri": "https://localhost:8080/",
          "height": 404
        },
        "id": "_8SKQqGz7CSB",
        "outputId": "21d83396-b89a-4f77-946c-03d65e7e3de3"
      },
      "outputs": [],
      "source": [
        "plot_data(sensors, axis, 'Raw Features - Subctract the Mean')"
      ]
    },
    {
      "cell_type": "markdown",
      "id": "37625306",
      "metadata": {
        "id": "37625306"
      },
      "source": [
        "### RMS Calculation\n",
        "\n",
        "The RMS value of a set of values (or a continuous-time waveform) is the square root of the arithmetic mean of the squares of the values, or the square of the function that defines the continuous waveform. In physics, the RMS current value can also be defined as the \"value of the direct current that dissipates the same power in a resistor.\""
      ]
    },
    {
      "cell_type": "markdown",
      "id": "c8bb3e63",
      "metadata": {
        "id": "c8bb3e63"
      },
      "source": [
        "In the case of a set of n values $\\{x_{1},x_{2},\\dots ,x_{n}\\}$, the RMS is:\n",
        "\n",
        "$\\displaystyle x_{\\text{RMS}}={\\sqrt {{\\frac {1}{n}}\\left(x_{1}^{2}+x_{2}^{2}+\\cdots +x_{n}^{2}\\right)}}.$\n",
        "\n",
        "`NOTE that the RMS value is different for original raw data and after subtracting the mean`"
      ]
    },
    {
      "cell_type": "code",
      "execution_count": null,
      "id": "VyOWXSnBcU0T",
      "metadata": {
        "colab": {
          "base_uri": "https://localhost:8080/"
        },
        "id": "VyOWXSnBcU0T",
        "outputId": "a00b209e-1ce9-4997-87bf-ad59a4802ec3",
        "tags": []
      },
      "outputs": [],
      "source": [
        "# Using numpy and standartized data (subtracting mean)\n",
        "rms = [np.sqrt(np.mean(np.square(x))) for x in sensors]\n",
        "[print('rms_'+x+'= ', round(y, 4)) for x,y in zip(axis, rms)][0]"
      ]
    },
    {
      "cell_type": "code",
      "execution_count": null,
      "id": "QdzMp1cnuO0c",
      "metadata": {
        "colab": {
          "base_uri": "https://localhost:8080/"
        },
        "id": "QdzMp1cnuO0c",
        "outputId": "58daaec0-f763-4191-e2b5-fb8a1687c10c"
      },
      "outputs": [],
      "source": [
        "# Compare with Edge Impulse result features\n",
        "features[0:N_feat:N_feat_axis]"
      ]
    },
    {
      "cell_type": "markdown",
      "id": "f722f2f8",
      "metadata": {
        "id": "f722f2f8"
      },
      "source": [
        "### Skewness and kurtosis calculation"
      ]
    },
    {
      "cell_type": "markdown",
      "id": "f2fad460",
      "metadata": {
        "id": "f2fad460"
      },
      "source": [
        "In statistics, skewness and kurtosis are two ways to measure the **shape of a distribution**.\n",
        "\n",
        "[**Skewness**](https://en.wikipedia.org/wiki/Skewness) is a measure of the asymmetry of a distribution. This value can be positive or negative.\n",
        "![image.png](data:image/png;base64,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)\n",
        "- A negative skew indicates that the tail is on the left side of the distribution, which extends towards more negative values.\n",
        "- A positive skew indicates that the tail is on the right side of the distribution, which extends towards more positive values.\n",
        "- A value of zero indicates that there is no skewness in the distribution at all, meaning the distribution is perfectly symmetrical.\n",
        "\n",
        "[**Kurtosis**](https://en.wikipedia.org/wiki/Kurtosis) is a measure of whether or not a distribution is heavy-tailed or light-tailed relative to a normal distribution.\n",
        "\n",
        "![image.png](data:image/png;base64,iVBORw0KGgoAAAANSUhEUgAAASwAAADhCAYAAAByfIirAAABXWlDQ1BJQ0MgUHJvZmlsZQAAKJFjYGBiSSwoyGFhYGDIzSspCnJ3UoiIjFJgf87AzMABhLoM0onJxQWOAQE+QCUMMBoVfLvGwAiiL+uCzJqYtdFU3O6S+pvdVUuYXu58hakeBXClpBYnA+k/QKyVXFBUwsDAqAFkB5SXFIDYFUC2SBHQUUB2D4idDmEvALGTIOwtYDUhQc5A9gkgWyA5IzEFyL4BZOskIYmnI7Fzc0qToW4AuZ4nNS80GEjzAbEMQzCDEYM5gwuDKYMlgwEwbLCrNQGrdWbIZyhgqGQoYshkSGfIYChhUGBwBIoUMOQwpALZngx5DMkMegw6QLYR0DQjBmNQGKOHHUIs5SUDg7EOAwOTMkIsU4CBYVcl0JuzEGIadxkYhKIZGPYUFCQWJcJDlPEbS3GasRGELdEEDGLf//9f1DIw8AJ98u/r//8/uP///z2fgYEdaEfvWgCIsGBNUMO05gAAADhlWElmTU0AKgAAAAgAAYdpAAQAAAABAAAAGgAAAAAAAqACAAQAAAABAAABLKADAAQAAAABAAAA4QAAAAAhcV8SAABAAElEQVR4Ae2dB5wURfbH32wO5BwEJYgKiKICijmAOYe/6Y41nBhPzjuzKCgg5nCK6U4Xxayn3nmeh4pjztkzEkWQnJZl8/b/+3qnl9nd6d0J3cvMbr39vK3q6qrXVb/uflP1+lWViCGDgEHAIGAQMAgYBAwCBgGDgEHAIGAQMAgYBAwCBgGDgEHAIGAQMAgYBAwCBgGDgEHAIOCGwFBO/BxijUeiM0lcAa+ENW7IIGAQMAh4hkAgBkn/JO9LofxHER4doexa0saE0l8j7Bghj0kyCBgEDAK+I6C9pk4hXu5ytf+RvluIv3HJY5INAgYBg4DvCFRwhXQ4Ay53uZr2rkpDfKBLHpNsEDAIGATiQkCVT7S0joztQ5k1HokeIHGv0ImnCQfUz5SVlfVyRUXFYZZlVXPO0vOBQCANsqqqqoqc4/T09Pzq6upSWBWlZGRk5JAvnbLFTp7MzMy8ysrKsljzqDjKlRBW6bXjldNIfbSKFV7WOexaOozPBMeseNoeJsfGvX7bwT1XMUF2wjhHuhb3r5J7rz9qnt7T0LX0nqYRr67fLi/uBc9oLmzj5sVzWB8f6tiWd2BTrM9zfTkubddnvgLsy8jv+TOvz6S+r7QhK1QffW+zYA4DaWHv+xzSDoZ9J7VhnRVijUei1SQ6Q0KNR6IgiRMinQhLa0v8X2HHXkcvQuDxXgsNkxcMi3sd7YXAJ7wWGibvKuJjw469jga9FhgmbzTxaWHHnkZ79+797k477eT8IHsqW4V17tx5kedCQwJ32GGH8/r37+/bc9OzZ8/Phw8fPriJ+p/O+U+byOPZ6WFImhtijTtk95JCB2cTrgqxxiNRkMRGFdbBBx/cs2/fvssiFfYibdiwYc/uuuuut3ghK5KMXr166ccHX2ifffYZ3q9fv4W+CEfo0KFDZ48YMeJKv+T7ic3IkSPH82K+71fdkfsgPMhH+UEfZY9Ftv4Y+UVPILhXE8ITVlixDAm/pjIDI1Qo/Evj3zivnBAtWrSofMOGDUsTEtJI4dWrVy+i2/xrI1kSOrVx40a3jxIJydXCK1asKC4qKlqcsCAXAWvWrFmYm5vrG/Z+YrNu3brlYLPQpWkmuQUgEIvCarbm/vDDD+VcbIlfF1yyZIl2vX17KVG2vvUOwWYjdfdNYS1dunQh8n+DfSE/sfnpp5/UB3ChLxVHaNu2bTu1a9cul+fHl0vwQ9GupETNcN5Tjx492peWlnZGqXsvHIlg05EhbdbChQt9ke8ITXMiJjQIGAQaR6B79+5Dtt566+6N54r/bMeOHfvFX7rxkn369Bm41VZb7dh4rvjPdunSZQfMOL77XSalwtpzzz3VluJbL2WXXXYpx95RFf/tabzk4MGD/fkJ5rJjxoyRHXfc0e2DRuMVi+IshtPSUaNGRZEzvix+YrPHHnsI99b+uhlf7RovxXD23lWrVqmvoS/El8d7fRGM0OXLl89muP93v+TTM7wHc8Uvfsl35CalwjrqqKPkhBNO6OFU0uvw6KOPzjr88MPTvZbryDvppJN6O3GvQ1Xmxx9/fGev5TrywCbn0EMPdQ49D/3Eho81wrOT73mlQwKXLVt2D8NO336MVq5ceY1fdf/ll18+Y7ivrka+ENjcirnCtx9SXyodpdAg+Rr9ShilHJPNIJDqCOgXdmW1GepXtliGm05ZtceeAKcCJfyVMCl7WKmAvKmjQcAjBALI2QnWjymxDAm1nL6/4+D74FZBSfmVsFUgbxppENiMgH7dVN+3nzYnRRXTXlYlrOVbBSVlD+umm25qO2nSJN883SdPnnwR7JunO3UP+vX0ILsXrMMHXwjZV8FjfRGOUGQHfZQ9GvnT/JLfDHJVAcVCmv91eFKkQpz8BV7TDDwz0vX9SEvKHhZfHHS+k28vJfOaPmLOXJEfgIZkFvolG1+dIvxpnvdLPnPl3gH7pX7JR26hX7KZx7aYuXhv+CXfR7ldkT0FfjPGa+iHowNhNaY/G6HsC6TlREj3OulzrwUmk7wglTFG92S6I6YuWwoBOj+20V1nRjwJO0Z3TW+KNI8uIKAG+8ubypwk5xM2uidlDytJwDXVMAj4jYAazuOlRMrGe80tXi4pbVjYIbKwMZ3iFzrIH3nDDTfs4KP8Ar9kq33PT/vb9ddfvzfYDPCr/mDvGzZTpkzpAzY6REp1apXKKJqblpQKCztNNnamU6NpQDx5sNGMYu2eppbCiEe0U6bAiXgdYt9rCza+fTAAl72xA/mmsMDDN2xY76kP2LQEheX1Y2PkJYBAkLLGhpUAgKaoQSBFEUjYhpWUPawUvRmm2gYBg4DPCBiF5TPARrxBoAkE/sB5dSNxvhg2kb32tJNfy55bm9rCI7EorGj2JXRA1DDuhXeM46j7U4fR2jiOusADNqnoOHorzTkW1ncxFmO75tUy+nHqJrhVUCxuDdNAZHoIlamER0dAyAF8HOfiNn4ax9EIyIaSjOOoOzYp6jj6ES26H34FngHHshqEdgyy4Y/hVkGOgommsbov4XahjN8TOk5ukcqq1+2jcKTpNUHSX4TvhA21IgR4uzrQ3N3gL3nwdO1/QzVb5+0NECfDo+Hw/RKawucwMtwFj4EXwnXIelxmkpBbJ9GPA0s+Cpwut0UhWo3uE2B9BuKiWHpY+rCth1XJNbayYCbnR8FaOUMGgXAE9uHgJVifjcfDT7TiuC4k+RZcDMfiynMR+f8Cq9JaCDekgPTDMpbX8ITnKQs9l+giMBaFtQ4Z7UNyNO5G+lDqDSiLlEH3G8zLy5uGv8+ZxcXFazQPS8P2ZaXLlXPmzFFFJ+oAiE/Nf4legl3iVU0jvIJgZ0L9JdLjHgRPwdOJx5rnAOpx8cSJE79PUE7E+lCnHsgthL2ss30tte8xl/Ak/I1+F2fbI9aZutoY4nh5P7K34vgI5AthIjjXudZr7757y5jXX1ex3UKyPcWHIeGl+JANov7/Q36dZ0Ovl6SkwzqlFfDVdqzGAK8dg8bo7tDJb0Oh9qRKwwsEThV9F7cIscb7OPhO1vBfwkqtdm+a93778vLy9bzbzVKnaPYl1IrcAR/VSI2CnNNuoSsZo7srNKpAUtbozpt5DWzBji3UvaFxnAGbVDS6R2qpo8QinUvlNO1Zf9pcDdCx9dwQh4+z64P7GXnUEOhGQU40qrDcCpr01EaAB+UhWBXWk6ndElP7OBFIWGHFMiSMZl9CbceucTbGFGv5CDgfanSYacggEDMCsfhhxSzcFDAI1EPAUVROWO+0OTQINI5AUiosY8Nyv2mpbMOiVVuHWtbXvYXxn2lBNqz4QWjhJZNSYTWH4ygra37n470t9Eu2Oo6y2oSvK47yBXWe1/XHbqXmh87VaWn69TiP43ZeX0MdR8HmDa/lGnmtG4EgzTdG91b2DKCgesBqcH8/FG7biiCgyTGTlmmsnHM+leYSJmx0T8oeVsy31hRIBQT6hCr5SSh0jlOh7luijk35Yel5fX/NXMItcXfCr4ktIouu/fHXXXedL5+/kT9SN6FQx9Hw63oVR34BXOiVvHA5IcfRsWDjy7BQVxwF+6Vg4/Ww0N4N++Pddssa+antiuP57tjqcKyOo2DTWoaF2stSF6KPw5+R2vhkOYM+ms488ZcCskCuk9f8vUiN9FjcGpqjPvY1dMVR7Fg6TcEXhcULqSuOalfaF4WF3AK4EPacdMVRhOqKo74oLF1xFNmqUbxWWPaXwS932WXXkMLy/EuhrjhKvXXSfWtRWDotx5lLSLQeWfY5fV78Jct+FptFYTXV7fSjoUGEvgjf6YdwIzM5EaAroN7tF8P6Ai2Hn+Lhu4CwNZD2hOJ51xordxEynbmEOhWpIU1isnl2XNdtKKuxlAwpl0vtuZCN5dJzasNS+3WzTH7WCxoyCMSLQE8KLuetreQt1N6tHrcmUuUTTk0pMCd/uNIKjzc5l1Amxb8mXXhFkymelEPCZALI1MUzBHohaVlImvawWpPCqq+cHGXUGLj1y2je8LTweGNyWtS5pPxKaBxH3Z8xjPmpOvl5G1o1n/oHNYT7wZ4SslNl8nOrVDZe3Oyk7GE1h+OofiX0AkAXGYUu6Qknp+KKo3Qn9AXVHtZv8Gx4G7gb6RmcqCTuCaXoiqOetN0I8Q+BIKKN46h/+CadZBRTe1idRtVIrN6Q40PHWyVdZU2F/ETAOI76ia6R7RkC/UOSdCio5IROek2q+W8QaAKBpLRhYYswW9W73Di176XgVvWOgX0p97aApulXQiUnveYowf/qOJpiW9XT0ZQ/h5qt8VhoTzIvCrHGWwUlpcJSx1GWuVXHUV8o5Dg62BfhNUIL/JKtjqNgo46jvpBPW9WrQ6fSErgAdhSWk05S4pSiW9XrMDkvjtbfQplLQ3xzHOVTsogaQ6OloWR8IZT5WMJvIxTMJ+1BWJdIbgNHkh8k3TiOAkJrIboOU2jrZXAuD0SVtpu0dQQzOVZn0tZK2qt6BQ7CqnQivS8kRyT9aGSvjU+4Ao7k0b4z6emw37SWCzjD/Mau1ayOo9OoibMW91TiR0eo2WTSusJbw2sinDdJrRMB/UK4wlFWIQj0i6Gmt3ZSB9DHEgRBFV8kepvESIosUt5E0p6n8AmJCIi2bCxuDXsgtCAkWJVXJNKhyu9go6wiodN603rTdGcY6KCgx5re2mk2AKyG9Yc+FvqGzEeGCmg8Eo0jMZZ3PJKMaNJ+jSZTc+ep4ILavVQAyl0uXkb607B2989xyRMkfYLLOTvZOI66o4PROuUcR/n5nw8/oa2i/kENOX4Q1qGMZ4TsVHEcddoMBDbpnEonrgnhcTtDhH9qaF8UYo2nAiXs1hCL9lUl1D6EisYj0XoSdSyuBsFX4QfhOoTDZpP7ElZUVHSg0AAewENglSOEVxDU2eeO46fgmPclxGht70tIWZWrqwbEJYdyEetDeiHsaZ0RZ18r5Dj6BvUOkhZz2x05hBHbzgeJvuAzmtP6yx8xD9eO9V702JSbu27S5ZcHkf2ZyoV+5a3sMuXqq5+5ZurUkzQBuQndi9C+hIpNAzkqPwnJsVndS92UY6H3yLx1LAWaM2+q7Ev4IqDsFmJn3lh9nIIkTKifaI5bJgIoJfVoV6fRP4a3kOMzQukDwtNNvEUj0Kw9rGuA8h8hOI8Lg5XnrvbrxlWhPJ0J6zygYflNtHUhsHWouQvrNds57kv6vHrnzKFBICICsfhhOfsSDkSSxh1yurV6/B28PawGxLgX36NLbxxHATASpaDj6FahdizVkHtbEH5M3DNfrBR0HA1BYYJoEYhFYUUrM+F8xnHUHcIUdBx1hnxzQ60qCIXaq9LeuXM+lBx/kKKOo/E32JRsFgSCXMXYsJoF6i1/ETTSnfCGSDUhfSn8t0jntlBaO66r9dH1ulbCsTi1NvXVjqbaCtoJObSdadXpUpX3KE2AnPP6BdDxbXLSNFQXCCXdRfufcDGs6alAp1NJe0H/eCsby1fCeK9hyrVuBLah+b+4QKDp/VzObYnkO7hoDrwzXAKrTTZa0i/jl4Yy65fySK4G4eYTzToRPkQj0K3w3rDmUd4XfhZ+LnRMYMvfViOQruWeBfeB18CGfEIgiFzTw/IJ3GQTy0//5/DLkepF+pPwz5HObaE07VWp/TUeKqJQbog1Xp9oqt3T1N7U4aGTNxJuhNXeW78Xuhdp/4PDSV1CDgwlaE8rklIMz59s8YR7WElpwzKOo+7PGUbrVHMc1a+Ai50WUf+gEw+lb8WbXL/nEZYl+iiym9txVJWQcn2KlKZt7AT/GX4oVOBKQp1zOwMuD6VpoOVfhyfBDunHrq3gYChBe1cXwKrwpoTS6gaW9QsOJWuagWfWvbB/R0k5JDQrjrrf8FRacZS3Tm1C+pKGDwkLw1qnikyHYOroqXMLEyIPVhzVnqAOC/8Cl8I6JLwMdqNwRfsNmY4MZdR4JFJFVFHvhOKjQ0NVUA6lE9GelM4a0WGh0imwDg+r9AD6Cr4XVmX3CnwNXJ9eIEHx9Zs+9/sCW1J+kIubIeGWvAPNdG3ezqGwOo2eFOmSpB8aOq/zVJOBOlCJh2EdGipfDCtRzSZJh2eLQuwM1cLLaVyVzVzYUWyatglWRalGdCVNq4ZVgV8OO/QtkX2dA8Ld4fnwOlh7aqlAp1PJTxOpaFL2sBJpkCmbVAjocFBpaU3Q4P+SUIrm+6DB2eZP0Jf/zDgvG2mqTHgPLDzuXCLaNM0/1CkUCj8k7F8vrcUfJqUNC1uEcRx1efRSzHF0UKgZPzrN4d4WOHFC7W1oj8LJF3Yq9qiPjqORFEvsFTQlEkYgKRWWcRx1v68p5jjam5aU8rbr8MqhAidCug6HVsGaL2EyjqMJQ2gEREAgSJqxYUUApqUl0XV6Ea7/ab5OMzn/Ifx6nURz0FIRSNiGlZQ9rJZ6t1phu/rR5gVNtHsh51udLaYJTMxpFwSMwnIBxiQnhgC9JrX7qDF9YROSVKH1Ir/6FbUG+oVGqiK/DNavhupCoQp7ERwLAVlUXy9jkZn0eZNSYRnHUffnBqN1qjiOdqYV6iaghvVaov7B2oOayDyCbLhXvfSYD5Hd3I6jMdeRAvo1cS94NPxPWF0g9FjTYyH9QWh1lJRuDcZx1P05TCHHUe1FKGmPIpwKww+IOz0L7WUsrHcupkMPHEdjul6cmcMVlu4+9Q9YP0rEqrDivHxqF9sSWjoIZC/Cd6Y2dKb2jSHAeOVUzj8OD+UhczW8k0+Hjaq0ziXfA4QtnYbTwDdg/UK6FfwrnAfvD6v3emOkw0AloLJJj514KCk8sGZypPMb/aaPqMZtUVzkdPLoB7fdosgbMUssPSx1XFNXfyX9ZVDP2/rkAOqkNwKmk8WELRQBx2m0fg+rfnOXklAJ96l/ooUef0279L17P9Q+dZgdC7tN5wlls4NY36d+lFJl6Dct9PsC8cjX8fZZIX7JRUB9hRUpW5BE1bKuhC3COI66oJMqjqM8CLorTrj/ld0i7m1B/aaRbwH8ZP30WI99dByNtSpN5Z9NBucd+BPx/9YrABxNkuZxuMnMSZJBe1gJTc2Jxei+BxfTHpayzmPyjYzjqDu0KeQ4OpBW1Hq4h7WoICzuRH8govkTohRyHNUelWMSuYP4wXE0XHtbDsdRvOUXqaCJ6bB2Z8tdmqsafwOsX34Od8kTJN35dXHJYpJTHQEehAa9Jutx2Rbe1XpMtmNGdO3whrwPwQ16Y6mOgal/AwQS7mGp8omW1pGxfSizxiORPoQq8wj4IbgXXIei2ZeQYUMPCj0Fe77vHrKvQG7E/QQ596pW1uRJDB+Ujy5pss2nu+22UT79VKxnpE1ZaVYhv3PHK76i/fon5PnbbpjwbVFVh+0BXCfynj1n//2HvL3vvrpkiuf3HZmGmhGBVNmXUCHRXpj2rtSYGomCJJoeViRkWkgaCmt7WJeVGadNolc1HbbgBdYsuZnwJ/t4Vs3moeQ7LpR/RAuBwDQjMgIJ97BisWFdQx2uDLHGHeJZqyWN63DxLnh8bWqMEeM46g4Yvb9UcBwdHGrBdyimg4irN/cq+tvbTp47aaRkyg4cL2JQeK71hBxD/DtYySlXcxTjf7BJBcfRGFtlsocjEIvC0s+xA0OscYdqbREkaFx7WJrvX3Bc1ByOo2lpac5LElcdmyhU2MT5uE+r4yjbyT8ft4AmCoLLOwzb1QaZCDkuDQt5Iq5FkNo/Dw/sb7svFAZOYkpKQI4irZjvXBPxRloUuphTLnQYW6COo2CjPk6GDAKeIRBEkhkSegZn8gmim20b0a0n5fDQ0G9KpFrSu7rCPv+4nEyZBkb6SGVSLK3+6COW6mvZ8PL1yzrn1fRybv2TSXrcrEPCJMXAVCsJEdCe0gIW+tUfpiKmNd8esY4Zcg/pq3gtNd98eOuI+VpnYvjIJRICel5HSKfAN0XK0BLTMpKxUdgisujaH3/dddcl7EwYqX3IH8mwp2jixInfRzqfaBryC+DCROVEKq/2vdLS0rFg48uw8Prrr98b7JeCTSLDwh1Z0Fc3JjgMvoMh4BqnLeHYkL4RI/wMe9i4B9O1PpDd6DYEeBMb61k4ohqE6jhaVVU1CGxay7BQccqGP24ABgmWWGpHzop0zuO0uQEJ/MdjmRHFJaXCUsdR7FinUmNfFBYv5Kjq6mrtSvuisJBbABfCnpM6jiJU3QN8UVjgsjey1Rs5LoXFG6Rz17qjqjoS8s7Yu9AQraUCYoW1R1VyN44wV+A62R2F1Y70zvCq2vMxRNRxlOwHwsmisCqpi/OOabwpchR1U70rR47+IOgHrjFOQr3wVo7b1Evz4/AfCG0WheVH5ZuSGSSDsWE1hVKKnueN29FKx4VhphTRe4rqIcaO9QzOpJusHNsVYnSKNj1StdWD/yBYFUo8H3kcBRZJ9kUkLoKHRDqpafxadII7NwNHqxQTtmE52t+tzSbdIBArAtvZG71n8MtuhfWkGpdSiDXmRHsO/7uyHVnfbzx7ypy9jJo+Bqvi+UNYrfW4qV6Uo6zC84bH7w7JcxYh0J5tadg1uECgdigenp7K8VjcGlK5nabuzYfAdqKzTi2maGXZC9Q1feVeMpv8K5ihqi+kKqyWQv+kIT1hnfHx7xgbpQrNYadouJJzzjlhHWXlFGhpYVIqLOM46v6YYbRObsfRXJxCd0HxBOQVjOoldktuQAlNwh45CafiSZybhB/WJHkGHqbnbf+sNHlJduSgg/sQx5bVyD+wSRXH0XDF00iLzKn6CCSlwjKOo/Vv0+bjpHccHS4j+W4VQC29aNd6Mh8IquRd4ifDS3tKzyChujCcCAdRWmrX0B7Zi5inAyi7XezjOP4Zx9E4QEuxIltC0wfBSB/mO1MMK1PdJhBgPMdkGyljtfI0/joFFvKlsNJ2b+hE0b9KPlO7LsW7/Xa+JG6wPeCvIL2IuREjrBpv93WsuZnJk5HNgxnNV7UmamROJxkC+uOkH9x2i7deSdnDircxptwWRiCXSTY7o3BWyA+B01FJlQzzRFRZPQJPsJWVVvEShoqT7Hmp6jjalh7Yy4EzUHTL5UsGiai6FmXH0hYb8giBpFRY2CLMiqMuNzipVxw9ionM6iX2m7wqk0U/u+8EPwefj4KqJhTubYGGIfoz4Ux4IPmvkNUY6bM5OsQeLoayRB+o4+jkyZPVD8sXQvaR06ZNUz8xX6geNp5e44YbbhigTsGeCg0TBjbH67MZluRLNCkVlllx1P1eq+OoZVnqOOoLqeMo3uID4hLeD1XDuPC7FfIKoQ73lsHnoazCv2AV1MpWI3y+XMDxr+T/8/MlfC3UgeA2ckBtnhgifq84Cu5HlpeX+6awaGpBDM2NKave05BTcEzlos2sz2TIqTnaInHlMzasuGAzhSIhYN3JYLAE21WZTOf81Vi0Tpbr5OlIeeukTbKn8Ohn/7vRd+dKFykNXFi7WGSdrOYgpREwNqyUvn0tqPKsvNBdukqXFT8ysBP5I/wuyuqZqJo4iR6ZMIwUOWfhfCxZHaUd3u/9oyprMrUqBJJySNiq7kBLaWy1PYcvMDlN1tOktvSuphDSYYqabiBnztXZfEVUsuytr+yo+WcQcBCIRWENpdDPIdZ4Y3QJJ2N5WOvIMo6jdeCoc4BhNjkdR8vlqI24iRb2sL26P6Z3NbtOxUMH1D8YKR07l07HmfNsD9lmzTpiZfZKpBGzuiUi21fHUeQ/CA9yu36i6a7YJCqY8sgeC1/lgaiIIpD9BKwe/b5SLAprGjVR24Ty1EZq1YVzukZP3GQcR92hS1rH0XQ58PG5bGechRld5BbY7Qer0LV1Abm5Il1yHla30kzZ05qEi0MM5LfjKKt8/CsrK0uHvH5RoV+CdRVZXU3WL/lg87w+m37Jj0fuSgqpT43y8kYE3Me5cbDbAxvknDqPGWohCGC/GqIrh253uVgZE/niF6OiCYMhkHGt/NDnCrEqddOKWf7ufxl2XRNtHgTU6P5pIpeK5ResAxdS+8QGuKPLRXWouD88y+W8SW6JCFiy/3s4LvzIegHVATzaQz5XcTTVqkyTuxfniLxeY8nSZ8mQQaAWgYzaWNMRtSw0tS+h7mJ7I1zlJo6uaX5eXt40fELOLC4utpe/6NixY9/hw4evnDNnzigtpw6A+NT8l+gljIv165EQXkHg1X6CB1CPi3XFUeT2QO5TsGd74SGrB3ILPa6z3Xa177Hi6En4vfzOyzpTVxtnHADvR/ZWHB+BfCFsEp9KyTriwZUVklVpWeV58nConHO/LuT4bIZrx4L5Ltz3yoqKCp0U/f2QIUOKDzzwwE133333MaEyPUqk5JR7Km6uemClFTh4GxnD9bWnHtV95xqX6oqj1P9/lPH0nlKPV9VxFLkjkD+I45OdOnt4rSCyJui1QrIdDL241l4MCW+69tpr30F+Dw/rbOPMkDA/JydnNuYc9avT+/UPwvO5J1ndunXbYf369Yt53zNJU0+7ZqF/cpWzQqzxSKQPV32uny9IQqNDQmN0rw/Z5mMehKQyultvSsaqR2Vt22vF2q9AsGLVoQKOFsLOM/HR4MGDl3L8XliaHo+Ha2ns6fJ19nViLZkpJWzCqus8RUVgY4zuLkiBTTIY3RMeEro0L2KyLgWiD6Syxh3ShzESuaUHydyowookzKQlJwLsjDPq7/ehkCaJNWl/eTBUy3TCibCjqJ4nvkPonBP0J/IE7OSZTtzu8d+8F5sqIO/Oe2071oFOAROmPALNqrC8QiuIIKOwvEJzC8vB2H75ntPF6vtnsdh88IBQddQ0oIpIh/wXh9LcAu1drYA1vyq8AJHdBl8k1k7TbIU1hTRDLQOBhBVWLEb3lgGZaYWnCHxWJkeowf2Ur+zu0ecIVwX0R1jtmGq/ugtujB7gpC4frJutaqg/Zt+c8rVUfVUu8napqN3IkEHARiApFZaxYbk/nclkw7IekMz/bpIRWtvTvpFlTEzVYd8MGBVmL8ynQ746RP2DdRJqDl4iOBHWL9C3IWcfFNYC7Wq9WozLxDPR7fxibFg1YEb6nyQ2rEhViyktKRWWcRx1v4dJ5TjaTkY8tkGyB22SysHL5TNqfT2sz9Q0WL8eRaLCSImkqdJSuxf6Sib3WSuf7sqKWk+wvN+mctmbtCaJL1K+blVvHEfdb0EyOo661za2M0GyGxtWbJglZe5/P8RwD+P4tLFSvY/IF1RS7VA3wvr5Oh5SY/01sLWzyFd/3Qt5yH/6fnvNrHjkmTLJhYCxYSXX/WhdtXlloxyu3aGeH0jgbXxviP4Gay9L7VHxkNq9psKLvuRLdM6nwurJIv8tkYPiEWbKtDwEtPuedMR426w46nJX1L6nqzu6nE44WVel1NUpmxKEXSnrtRLpt32FbHxg8wyyYymnTqE1ZFnt+M53IvwS/DW8Or2yciPhGvgb+GX4ZLijU4RQe2mH6/EMLGHDNsn62cXSc94DtU7LeioimRVHI8JiJ5oVR92xSfiMWXHUHUJd1RFPa98UVrQrjt60Sk76qVzS+r8vxR9SXX751MOdPhFUo6juIqY9Ll0T6yi4vcZ3/vJLdXV4Es6DVTFpfCllZsCdiSvpLsl36xizd1BKf62UwGMVcoaeaIzMiqPu6LSUFUfdW+jfmSCijQ3LP3ybRfKxt8ibgavF6pou5V1rvgqqQlJltRM8D2aHdKsKfgjeHtbRY12yrAGkq3toJaz5F8G7hzLlswPpxk5pUplxlViH3yKf1C1sjlIQAWPDSsGb1iKqjI/Ubl0+lsqVVZJ5ru4vqBPjLUt7Qa/D/eE34cESCPwB/gHWoV5dCgTmka5zzwbCOne0L/wf5JwDl+LE9e811ZLe+V2p+KLM3maV04YMAs2LQJDLmR5W82Lu6dV6TWWzU5aSycqWSizt1ooOHc5AwdwCay9pMWz7ZsV80bq9s3t/7d37xL2Qn5mJEyqe9P2n2quaxizWFEgaBBLuYW2JlgS5aKMKyziOut8WPkhs8cnPI6fL/bKPbRy3XsjOttpu2PB2SFn9Rri/e+3t1R/0/ruTDgkti110LCunpOSD/+bna8/MYmUsa8RNrr5dtjzjOOoOa5I4jiassJLyK6FxHHV/8JLBcXTxOjkmDUv70AxZ+epdd5UVtW2rjp0r4SEM8XQo2BgVNnaS8mrDHwT/VpqTs/vMBx8sHpmdvjyABWv+CrYRa4SM46g7OK1xxVF3NGI7EyR7oz2s2MSZ3M2KwBTZWtShk17Pkbfequ4JOgxcC2/jaT0sqw8yl6j8o2bMKLJtYCO57vUoRUOpikDCPawt0fAgFzUKa0sg78E18/6MJ3q2WJ3PO6UorarKyt20qQSlsq0HohuKYCHBPFZ9U6XV7bI/rGXxGSv/j3J7w4wmJUUQaJkKyziOuj9+W9pxNHcvfKv697cySzdVqCI5bdasu91r2/AM97agYap7yu9nzpyk10mrqqyS7bazskfKOrfcxnHUDRmRJHEcTVhhJaUNyziOuj94W9Rx9GTpUzKvfY+sv8+QiuzcjPNnzJBZp59+c+Ta4uUu1p7wH+BJMI6k1gPPPHMCE6NZ50EsFJ01GR4PYwOzOkSSM3PcuLsuveUWqzotPS175gNStqRLezk+8rDQOI5GQrAmrTU6jg6l6T+HWOOR6HwSV8OL4BMiZSAtCJshoQs4SZ08TArl/vvVZmXtP2fO4tLsbL3PIdLpNdaZ8IvwChg7VwNeSNo8eH6Ec5ofwz3TdWqUHP6oNVSemfntUS+9ZH85lFmzLBkqLzjnTJhSCCTcw4qltbqO+1khfsmloE7H0F/K/WD9ahSJgiQahRUJmeROS5fTjiuRsjKra8ny9UVt2ixfJZ2fQ7kcB8+B18OOklpG/Fm4AMYny+oBBxo2z+pO+q4wD7L1FLwUdmRsJP4WfPJy6TazMj19Y7dNy1ZLebkVOOt0lvaLe0WIhtUwKc2FQLMqLFVAnUK8vIkW7sX5/7nkCZJuFJYLOEmb3LPNcfLJJ1agstyaNHPS3dfLRKutbFgbpmC016TDu+0Ta4OF17s9jPzBkZ0vG9ddJVOt6bdcfkd6abEl335rSd9ODDUNpRgCzaqwdMkQXe0jA9ZfODfiF9KesT/GJUOQ9EYVlnEcdUGOZIzWW8Zx9G/3rZRNltXv8s+r2wXWhw/52GAies926q/3P0qyhiGbydE1va62gQ2rt73442rZyPHjM+nR2Yv91cpCttk1pxaNuhGwaRG75qjyiZbWkbFmgqu4f6khjxry94MfhvvBdSiafQnZt64DhQYA8iHwqyqA8AqCqPanI+/JoTI9CBlq1N1zEBOMvS9hY3k4F/e1KFsYku1ZnZ36qOMo+xK+QRuDpHm2lyLyXtU6s3JkX/AZTXS2HpPe46uKitde6HZmF9mxUhbMGx4IMOf594GZ1vvWnjvOlW3/p3nIGSR7k/VBtq5MahPlmsAn8DV5vlr+W9e2ZQ/kHFhoFXT8+a4RAXmB3847Tm0nV/w4TqZPK3TkhPYlVGyoT8P7Tlrc9xSZr+qKo8g4nbhf+xLqfpa+PPPU296XkFC4huf46Iqj7EtYhGznnv6DSyX9voSXU8kc+GB4GRyJgiQ22sOKVMikbSkErGw5Y8UGp5ezTdcFS4Ky71y60e80Z4243iufyG5L+nWbv8Cpi5y6ukR2tfKasx7mWgkhkPCQMJYe1jVUVbWmEobWWtIhYLhBVW1dauM6pzaHifiOAJ/u9Kuap3adT0S2eSVLTi1/pGu+pFfLLju+JMds6BRMX7nnKWzmvNiS06/yvWG1F3g6fTf5utfcnF9mvbLbJ9t88CVLgj3RKScjy1p9MMNGuoRza7N6E5kZkMASb0QZKamMQJDKN9rDoltpVhx1ucNujqMorB1tfwPsPSb0BAMdFtch3ap+2rRpziKDdc55ccBzX+CFnEgyjONoJFQ8SjOOo+5ARuE4ejKls+Pl6VdNv3Zgr2VP2QLSpDobz6rssy6o3Gtqdok8khsUaXMHKRiRTtIXN+brTL1m6tvxlBO5tQ2XKxbJf1AeyfvXoTdml2afelpl9nmkplNPhPbpvOa5qVdOvTk++bVtOZzyEQk1eGR5eblvCouLFkS8sAeJrdFx1APYbBFB/jfaw/LqQq1JTlgPi7FSImRNxEZUIWnWBnmoulLeeceSk9pbt9xD1+0JuZTx/yfwB4lcId6yXPc1+Adrlpx7PwsqyyksPfMaSY9Xs8wfE7CFlUvFmh6vfC0HjmNDPdQGPaxE5JqyNgIJ27D0i54hgwAIYFwX6zUi18Nr5Dm27TrTSpOLL6qQbdZbR9O/kfnyEf93hrWXtCVIrztI3pevj6A+gf7F1XLxBWVyInpqtvzIOdwtWFpQrHfh/C1RQXNNfxEwCstffFNEupVFRf8JHwRvkPuY0XAsm5c+8khAKr/c0K+dFG2bwVff6+xZDPqhJghvCXqTiwbYW3rr3ukyf2g+dW3zU6nMmBGQA2SUvCLnc16nhu0Js+SypV+sDbUgBJJSYRnHUfcnDMOsH46jU7niWHj1UUf/8+m832+aLhUVVUzxt1j7qtNp7ZgGE5C3WKj4APLQnYlfYVH/IOXjpQ8pyJQde6nkOb/vwM47e+AbeOONlVJaWp59YPlNJ5787L84ry41qrTuhD0j6v4gPMgzgfUEJYhNPWl1D5GdDI6jdSsVx1FSKiyz4qj7nfR+xVHrIq6mNkVVBKN/uX6bnzfl5Q2R228vl3WL5ks3CZzQVnIx7vyH8wfCH+DDUkIYLxXGW5DrqrJ8G9ae4H+Oy5Ms6Uisevl8uf56qywra9AP1w5dTArzF23n5nPoZalvoCekjqNZWVnag/OLCv0SbFYcjR/ZIEWN0T1+/CKWjM/obv0fL3QpXAbviVk9Df6K3kqRdOpksWvgj52vl7XW41LFdqg7Y/DWOTIY5bcccf0Jdj12lV2oV3mfG5hkf6IskDZtLCkqWkcNf4KzqCq2NgvFahviz4i2xsboHi1SceUzRve4YDOFQEBXSbCnT2kv+2xMQ+8RngYPk9tuWy1r16yVXWXQcW0FZSZfyrMynFBJDfNbkl63L/4Zg1WR909px2B1sGwjmzb+JpMnay9xW1jb8yXh7+AKeAbt3ZvQUIojkJRDQsbbxnHU5cFycxx1ye6SzEIL+InDapS+lZf7MXolmcSvSy8rWytTp26NCvhcZ4UWtJOuoeGgDsNwHQjt7kwkHuLeFsRTLqyMrgKyBLaHhae3k86oLJHt2C36rrt6pxcV6ZCNLV6tXNr1HPEpcDr8JEqrPWHcZBxH3aEDm+P12XTP4c2ZpFRYxnHU/eZG4TjqXnjzGZ1So8bj+3mpNa6kw6YB7WbMWC+bNllymOTkB2TdqBzUVjnf32rsV2+hG9SOlAgVJFKY6zMiFNbfYqOx1TJ7RwZ/HdJklRzK0kd8KGh/661qX+sF6xdDKDCVf7fDvWFVXnGTcRx1hw5sjtdn0z1H6p4JUnVjw/L4/kVvw7IO451nmGSv+tndroaFD5ZlLZSqqgWSnb1RMvgiOEnKTr5N5mEnWoFzwD623cjjuYrxQkBdTrbrky6HUr+F596BDWsS3zCzcGXIyChlkb8faM8yWL3HIO1ZWfhpWVVwo461xoZVg5hP/40NyydgW6hYawANuw/WQdQxBDpJXekseGt58MG3WFE0n29s33CcdV476Un4qpTawy/t2bwMJwNpj68SFTWW/ta/x7e3e09psh8ToCsrs2X6dHVwVWV8YU1lA7p21qGwtuFegh1q0s3/VEMgKYeEqQZiCtWXIaD0henhBr62621/UZMrif8sEybsQvgL6mm73ICs2TvXdmf4N2n0yuRztNxvhFucqMcGKvEufBjWqVd2zpbMdmnUbbRo/X/A+D6a3pUq3UsIQx7vAVZEZcP7GkX2CKGhFEQgKRWWcRx1f5IwWsfpOGodhdQD4BdRVveEXeFs4lsxJ+9Jelc7Dhg8YHEgPbDf2DxZykp95fI3+Yrzqgi0V5MwUf9gwkJqBGh9BsmlKFiR4mPbMJ1IZOT2u26/jqHtQHnsMV0KqSt8ARyiwF1EHoNH0cs6xUmNNqTuxnHUBSyweUKfTZfTniUnpcIyjqPu9zc+x1ErA4lqfFY6rybgv9quanodC+Tww9UoXV6+b/k32HEyLuxoDwffkKCMIV2HkP+CvaBCL4Qgo6Y+v8oROiy8oIPdc0wr3rv4B85tknHjtif8Fv4T7cwjdEjtp6XwDQCg7Y+ajOOoO1S64qg+m+45UvdMkKrrQ2PIQwQaN7pbDIXU59O6os4lLTZ70KWjFi26mPQS+CWM129lTZZVVY9z5nG5kEJvwSzWZyutOsW39AF1+h7+jNUbxlFXK3+yLKX+n1GvWXCFfPHF+Xb7LOuSunW16HXZeFxXN51Us1pDfUi8PG5Wo/tQav5ziDUeicaTuBLWbvrxkTKYtOZGwF6JVL3Tv4Zvrr26ZaUTvwb+RQYP1uQc2cb2zdrrsHyZb3e9Z8ubpO8B/4MuFroh6eh5ajSczwifElYwhUj9s4bj8PoSYYaMGNGBUHtcl6Of1OcsRAEM7/YSOZfRrD5OqgmTH4FYhoTTaM70EDvDi/otHELCIFjtBvfXPxntMWNh4zjqAlYcjqOTEaUOk/QyAtVhYn9HXA3wU6W4WL+mLcDPvR9h2sUd0vrQn3pHZtrKKpM0VQCeEPe2wBNBNUL+SRCQ9+w9BF6f0CHQ3z4+Em994UtnZeWF2LMY+jEjsqFLxp9Iy4X1uY6KjOOoO0zJ6Diqv7QvhHh3l6r/kfS1sHbLP3fJ02SycRx1hyg2x1FrIJLOgHFHCLxRK9WybVr6ZXCJ9OixlFDz/ZU1GY7pGMhdu19udQ/6U3qvT4CXwW/DXlGBV4KQ8wmsX/+OQ239Y+dsq1OvtPzV9rHI3YQ9pW3bKsK58KX1elkfkfYUfDK9rB0JmyTjOOoOUTI6juJsaE9xyCAsd6+6bevQr1D6hSYSBUk0NqxIyCSQFtmGZT3Gy6hOonVfSMs6NWTb0fvwPFzCK7+7TMKr8jZ5D3tQlXWWDGcMWAar31bSEvW7Ba6yxjA5m8nQZ99Of4t2yHg84UXWw7Np61mh9qrJIoxUodsTpF90Eo0Ny0HClzBhG5Yqn2hpHRl1aKGkcTfSXzb9gqO2rAYUzb6EDBt6UFB//Zrc587kqdlP8Mn/e/KsU57e/KV+yJBv9/zuO+u0Dh3WB9eu7fiN3ghwvYLuxnDGSOo4uWz4uHEffRkI3N6pU6fXVg9bfYTmuaJ99pDV5fnrOv99jfaos5b07v3GpD/8IUg8We/Fs9TtLx9tGDVzlHz0zlUdZce/bRBrWM9hTyzvvvzN5cuXHyW9el2cPW/euqyqqluLLOthNl+sqHnGJv/tnnvOf3PVqq5Hobh2mTRp8tgXvnrhkGNfOBaR/uzfx3VfDcm+gjChfRKTXM4/qF/S70uoti0dgjRGQU7qL7shDxFo2MOyHuEl1N7VdnUuw0YKod6GziFUm6TFUHAXeiXzO94g3+jXNvhP9FrehBfAgTrlk/CAOrJ3PWvNPyFna/17TsEkMYmhbFumRLNaFqwr0l8UavepdZtgYceze1nPabrpYdVFx+OjhHtYsRjd9YuS2j2UNe4Qz0ot6UvwMKxpyjlwzGQcR90h4xc6CsdR+8uXdrf4lQv8WE/aRI7XyP33/43wbPg91jbQHm2/8e1kjWUFqoPvHaDDfx1SPYe2Cr+/JCVG1D+YmISIpZ8hdbd3XtydrwpplZd0sl00ustf7PXn/8u538upp2oetdeFP7scBn7h3xPwMTS1rnInMZyou3EcDQckLA42Sec4+jX1GxhijTsU/gus8XAudTLFEhrHUXe0onQcvRgJWfAtdSRZ1liOR8B3y3nnHU7YGb4fPg0u/2NHGVRi5X228xOf9+NYf8z0x8drKvRaIPJUZvXwV74dvrGizQdnt2WFLLzfUbXaLm1fW3nyyZMIFY8d6GmdSBhOt4UOLglPrB83jqP1Edl8bBxHN2NhYlEg4AwJl4vFS8oWXWIFGxSzrHd4WTfIhg1dOPcxvJS+R2eGT2UDpsg7oeHg7+hS6VDwiwblkziB+r4NL7dmyrHajp2nSZB2VWF86Em158Hfybx57Wn/SjhC2yzsrlbp/8Q6ASzxKrVGJ3FzU7Vqp1Nx9ZmLm2IZEsZ9EVOw+RCgS3QAV2sL31nnqpa1B8d7wQ9Iu3bDCLWndZ8MsF0XsqZ0sXvGxXKZPSdvG849CqcSaX27yR/tL9mrb+7OBhXaS+xg97L0q/UOMmDAfoQa3xmdpL3NcFK8shknHxaeaOLJhUBSKizGw8Zx1OU5acpx9EeRfSm6BNYvteF0NQc6/eZ2+Hx4I3w/w6Yz0wOy6P/a4B+Oi8OGje3V4F5JHJcI74l7W+C9VFvi03z921RU3fYvHD01Jkd2yQrI98TPhP8Or4F1HuXdMD1QUXtrGNl+aj/Nr1moMCx9c9Q4jm7Gon4sGR1H69fRt2PjOOoObVOOo0WsGkpp7DYBPBhCZNnrt2vPoZCXOpvwaPgZtkztSzjymHz5jpUZcpgq/GyboqJ913fo8A6GyFWc84MK/BBKfYvWdejwWpuNG0ew6ryu5JA+rp0sJNyBoeEuhLPgMbRfh4hq19qXXtZ+hOF0HxpdMYlIxnE0Iix2YjI6jrrXNrYzQbIbt4bYMGsyt2PDOqFml5gedQpY1vO8nBWwvow6JKqGh/Eiz4Ir5xbKT9h9dCLx1TD2G3tPvzoiUuGAeg8L1X867fn4t0dlMe0rhXVqkSpy7TnOpIXd4BJ4dt12WR0PwY5lbFh1UfHw6HRkGRuWh4CmrKifQi4kXXSHGwksq22IZa+uqZ6Q2rvSYWAB/Bov8VLCY/tkyHsDMtlppkIe5PgP8Nfw+3DKEb0sp+4FfCN8uEe6bLV9Fm4bIofQ3gpCVVwnh3qZ6sE/BqWltrwQBdZ2rZkUrYuAqR3QUJIhkJQ2rCTDKCWq89caI7rs2HDen9pq6HjYn/TVhpMP346J/SzCvFvpaxCWsTqUKrOt4Xt48TUtVUl7kN3xLcskLPprV3uCcxbxc+CbYY1fCKstT5WY2vZqCUPeG3rwBEPl2kQTSRoEklJhGcdR9+cDo3VEx9FvRI7UUvS5P64tbelcOTkVfopexa+EF8GfsfHom6ikCzBKzzsxzx7+Pc2HfzXEL7/1sstU/ljivhCyg74IRiiyR0+98sqdiS5iYhie7fLYQXmye15A/kfaH+hlAZM9kXs8eBQRfwQ+il6WlrGJLuZnGqHAITUpm/8j3ziOboajTgxsks5xtE4F/TwwjqPu6EZ2HLXy1onsraXa1fQaHAHXhCLasxgHd4dvlqH2WmV9LmwvCzG2Z7BJqtoV9KW9v6RNmzm6rTlxv6jQL8EZGRmLq3JyZiP/r/C2OG38rNe6qpM9r7UbvcrTONTpSO3h8bA6klbBE2Gb8mqOdbIsQ0Wrk5OuoXEcDUejbtw4jtbFwxw1ioB17I50E0LG4uPtrJa1DUnl8IscZ8BzYVVE6fQ0PgywqujGx2Q9xukPGP+9AW+AVaGlPNGO9vAq+CPaN7vicdmUNolNKibRcZpke/BrT2sJnAM+s+BKeLA2HAzHKo66iwVHv9c0Q54hYIzunkGZ2oIOw+5UVq8JartSRTUF1p6FfiW7iRd2T8JRh+bK5/lpdMjelX9yfAB8PzKWE6Y80Y71NOIueCQrgb0JCLknt7GHg4PpZR1K+jS4F3w2PBVWqu1l6UF6jZ+a5jWURAgkpQ2L8bBxHHV5SBo6jlp6Dw9nKPhBbRHL0pfxd/C/Gcd8TngtvBSeCeuLuemRHgwM1VRzP5t61TiU3kYo119//d433HCDKjdfiHtb4ItghE6ZMqUPDowHhuSr8X09G9QfQ/jxjO6yC8Pf9XShtP3PwtrjvBJ85hM+A+MRYu/bSNSeZPk+AXYsK8tO4J9xHHWQaBgax1FdZM4nYrw9qrq62h4C+HSJAp/kSgTH0Z24Vs+tavbpcy6rvSt1ENXeg3bD+8M34yiqSuqg0bnyabd05th9hkKz7N7VA07vClz2rqqq8k1hcf0C2BeqrKzsw8DYVli0Zy0XuRseKUEJtk+Tzofl2fMjR9HL3If0G2Gnl6VximzuZQHAhxx3gHeHbTKOow4SDUPjONoQE5MSEQEL5WRZj4p1sNpePtvFGk9QCv+H7IyG5Cf4VziXF/VFuHReofyCbWe+lSmfY6hR21VHzrc4ol358CqLKTpYqr5b9qgsD0zCfWOS7bqQQYO1l/ULnAtez8CVLx9unaU4fijWYeBaBasyM+QNAvrjqR944qakHBLG3ZrWWXAszf6B8d9Sbf7jp7HYcY2vkQ59CuBt4Rt5SbUndvTeOfJJ/0zpw8f9OXghDddzod4I0ZZFtKuYFk2mF7k9fckPuqdLt8Pz7L0GDiB1f87dAPeBz7XzoZ2eOcl2A9GdVvlQaLs4KL6GkgQBo7CS5EbEVw176yodsrzhlF/cx34RZ2Ob+ZY0VVqL4L/BU+DSx3uyVlQ1va6/26sSLCTtDrgl03007gd5mvmT1fLVwz1lOIpsI0pMldUs+5xuAxYILCb+4vLush+hQ4orSt1q7ySYcMsiEIvCUvuH+rUoa9yN6IXzOCRAxnHUHTyM1uGOo3QEbFvVO06J6jR7GHgNxxfAfeGJ9CbUZnMgNpwvmYrTiXVIv2dWnU4CvoKXt5SwlpB/FexbrwLZwdqLeRxB9mh4WrhY2lfJ8Z9RVp2lUBZ3TZM2p7a1d4RWW9bRnLsS7g7/Cb4WDifFFRE1Pm7INo6j4eiExcEm6RxH9UFQpztlNea6kd7ghMg4jrrDV89xdC9y6o/DWw+eU7PKQM/fmAcYCCwkTZXW13zExzYjt/DLVPRoD5xDN5H2ov1pfw7n9etYHUpLS3snlR1H+aBS29t0GsYDqas3/It+6KF8J/zkge6ya3rNcjM34g//H86pgf0ycNvQewm77EAPn2mvrvsuUVV4ijOnA//KysparXGfqNAnuaL3VO+tX/KT0XF0JY1Vz1/lpvx1GuthBSk/ATaUMALWy+iruSpmvzetl9VY/NpBlvYU9JO+3oOx9K6upidhTbhLvsbQXm0NkmWcKIftl5A8rYJo767wJtarWAMOFdffwwqk4ALrD/BouBounD3GKlAcj/gXq7PapKuTWm/VxM3/BBE4nfLNZnTXT7zr4Q1wR9jQlkdgD6rwHu/XTqs7y+FanbTX5/Be2tNOXsZKM49X8s+d02Xl9M7Mi/5SfsR6pcOfWfQ6tPfQaoj26hzBR/km2BGPtblsB7ZDz3R7k9gLUFpqYH8a/v2K1x5vq6Cs6YRCtyxV6u/BOk0nQ9MNbVkEYrkJelMd46PG4yK6pvl5eXnT8Pc5s7i4eI0K6dixY9/hw4evnDNnjtpkbAdAfGr+S/QSxsavahrhFQRe7eN2APW4eOLEid8jtwdyn4I923cPWT2QW+hxne22q32vtLT0pGXLup5z3312b/djrjctAKCoq7RH5dE/cmwNGTJkekVVxXs/yU8dH+omq7Ir+aF5QrbflJ9fnFdcPJ48Qv0atB0HwPvxqdmKc0e45UmkXcj+jGv8OSTby3u6M3MJL8WHbBDXYO5yw3t688aNXS+79dbvGAgPThseWF/YLbPLwb+V6zswBZ7AkOn4F3JemH7aptMkrVpKMyorbz3okDfav/rqwbmcH0K9+xKOQP4gMDiZuBA2wJC0eNsVROQEyr8akh2vnEjP816076Zrr732HY/rbF+LIWF+DvM4Meeo7VSf1X8QJv2+hIqzkv7Ku1GQExPcTmq6Mbq7o8ODEDK6WycAs8WSexcSWGNmW0/oUOZ4OV6xf1TUOXKSVA+cIr9t0tlyB9j+Vhs52eh0E+RfBY91r0FiXQqxvgAAEUtJREFUZ5AdTEyCe2lkj4bV1upKtH9/eI21uxSXs1nFsBvtOYY6NMTvSu4dK2PtOZmnzVLXNqIPWfwA2PMKz0D2g/AgV+EJnkB2MEERrsWRPRbGZ88fQnY0RveEh4Sx1H4YmeeGWOMO6QsSTnrscHi6Ew8SaVRhORlN2BgCFh8+mLRbbH3D+7T22p3/cZoqrBPlxFKWj9mOF3Bu3mQpxlnSsqagrLLst+7yxiS2lnM8nOfjNGtZV8uGNY/hs3C9FIHXr6z+vt1hcth6xfHWPk+dT7BMqiy+ilv4c1l3txZ8fGxnwgorFreGr2nIwBBr3CHMA3VIjx2uc8IceIrAYCaOrGBvGHUxufndL+85TqUfLAffKUP4jM9k5/u7S273KiZF38PqmeXyOGn3ah5DrINVIQ+x/EzbjhVSWthd2oBJb76zMg4+wu6hvbP4ScVzCms7DGSb2VXEBxvctjwCsSisLV9bU4PNCATwXN/Xtin+KoMGfb1SVh6rJ1fvtboTwdlj86T02Dx6uoX4aS3DcRLnSH5FNmqe1k7gUAIG17KPzheorRwsVFXHtLFXuzh53sHz9EeZBbRWHijdui0j+jPfWnUtrZ003dCWRSApFZaxYbk/FNgKel1++Y3P8AJtwzYSefL223fJzz8/nSEZtn/QJ70+Oat3hpT/rbvktPmJT/Vv2V92z+ElXeIudfMZtXPAYzeneBtDdtBbiZulIbtJG5aTGzxUGZ3DF8PVuV+JdV9XyR6YJWXfdPvmbM2TJVnLZOXKmfLcczPosbJulnSZMOGOR7nGIEeG16HP2CSDDSthyJJSYRnHUff7qo6j/80+bCmqKCC9rB9k3331q0xe3859n9RSOERaD3eX7D6/keMOey7deF7OqB0GW6LjqBua4PIp5woYKBf1+EWq/t5NsrOtQKXm79+l/4sE2XLiiZdJt8rPNe3fmYeVGMdRRaIhJaPjaMNaxpcSpJgxuseHXU2p+yxeIL5cjZz4bxIsVNdru52z2zw1Fr9w9vGWdQ+RHjiJipyRyGVaS1lwOtHqinn9drFeuqjmK+H+4/ZfLBn2LjuWDDv7Pzbet1k/gix6zlCcCDSr0T3OOppiniJg4c6w3l5lgWXp7jgQZbUgMEHyy9LL+ut1Di7nn/q5L5MrebMe0TRDjSMATs/am1bMAL9NNXnLMsq2ClzCSg5pzLv8uvAgSeMHYo3ocLCgcWnmrJ8IJOWQkLG8WXE00l1nFxxerr8GfqwolwBf32VjifyRqTbtZY+hWTUFct8LVGNiv5qjmyOJaCqtBa042lRT65wH1xk47VycPadmx+ydwNPK44fhEt0KrBL74JJA4IeKMvLdSi9rSJ3CHh3w3Bd4JKqBGF1FVu9tgxMeJZgVR82Ko5EepSvRUj3ktbl4Ef0sgb353N5R9tgzh9noHULZ5+1/Fy/VNJissVNLWXE09pbbvjh3y4JDJmvZa5igs7/6t7eRYYED+bpaPdeStxZmAap+hb1O8/hABT7ItEXqKrJ6b/2Sj4/t8boarl/yt6TcIBc3NqxY74BlsYs6w5Iff2TQ97UVyH+5DGdHa4/pYlXcy5nuO9sOj9ixanbNiVW+yW8jAH72rjlWx31WV90t1oE3ofjBOdD+qVKRBZZ89lmZfR90aG4oVgSMDStWxFIyv2X14yV5SX77rUqOPDIzkNGdDeh/zRqRzRwcBiwZtzGlefm4cSnZtmSt9NoJ56bdId/+HZsWq7QyOXNxtqR1t+SEE7Jk4cIqqv0s92S7ZK1+S61XUtqwWirYcbXLsrpIaelsymbJpZemp3VfYFnVHQPDOq2Qt/nNH/iYTJP5sgud1nlxyTeFXBA4dokskJFbz5KJwQ1ijeq8ggVocgNpW7Pd4YQJ6VKFziotfR2l1ctFgEn2AYGkVFjGcTR0py2WNPnwwzslJ2egPPKIyPssaLVLt4BUZ8rvVqxemXO77BX4Sa7GXsVcN28Iw2+rcByNBi1wLQnMkylpd8qIM5essx1vqwf3YkuLl5jkxCynnJyt5OOPZ6C0Qp88opHqnsc4jrpj45xJSoVlHEft25Mu06c/JbvvfprMo/P0+FXS/Uzmk5R30oXmZPqXEy8JFNlrNTn30pOwNTmORgtYYJN8dvXn087X/FeXdK7u/TsiL1/Pro7/YxOxkUfLnXf+i5RMPZ8gFSZY3rV4a1xx1BWMGE8EyW+M7o2D1q/PGcd+K2vWWFJWZgXOG2KdgnH95zPlrd2zPzgKiwofq6yDwkVgLN5RHUeN0T0cldjjtUZ3Ybf6OmSxVht+Jek/nzR/nMw+k/uRNr6/JRtZsaeoyOp1zkms6sAqGYYaQyBho3tjwv06F0SwUVgR0F3YXfodtod8nb7XKEuWLrX1T5eHTree/4t8Z+3mbPxh75enCosXaDOR2SiszXDEHWtEYbFag/1DcZIKt3aV7V/6k3zZ677jLOxZlqxYYaUftK81ZpR8/+FAs7KDyw1omQrroosuyj7nnHPGuzQ64eRzzz13P3h4woJcBJx11lkXu5xqkIzm6fvVsXLLWYfImuzufEJv186SDz6wldXo9x9Z+sGEnG3CC+XlrTsv9OL0C0/3SmGNHz/+EJiX0x+KBZtYa8BzM4C6Hx1rufD8jSisLop727brdJedWvr8Qul1wFszFtid2y++sKRzZyurq1injpV1Xxwrd3J/69yn2oIRIn5io/dU722Ey3qSxPtUMGHCBMcb0E1my1RYBx98cM++ffvqbHpfaNiwYc/uuuuut/giHKG9evVa6yabBzjfypcDvx8rjz84QdaP/j+pTutrO3lasj+LYZaWWIHqqurs8vV3RZLRrt23N4QUVp2vU14prKFDh84eMWJEnZcyUj3iTWsMm3hlOuVGjhw5focddnjfOY4nbERh4RRpWe3bf/FAJLlZFUU3BKoqq6Wy0pJDD+U2M2TsLdaIE8R64E+y4ZtD5TnuO7tzS7tI5TXNT2z0nuq9dbt2oun9+vVbuM8++zTVCUg6haWLyelYXlnjkShIYlNDQvWYVUOmX3QRgv10sAxqxXk4O1ptZF9rT/nrD6fJ249fIBsuYh/ifueIlb4/p9uEFBVZM2+8Vh0Sq+1fasu6RstHpsWT9cWB6zz4XiksrnkVPDbytT1JDXoiJbIQtTtNi3wqutRGFFYGfg3gPj/iD4kt3bIuDt0/K+uu6WXsC0Z+7jHrkgX2Eavv2WKdP0msWRfKxm9Pk3etvWUG06oOIlPnUO2CodCPQO+p3lu/6AkE92pCeMIKi5vgKenDMj0kcSphQt1zT2vmgzAetDzEquLYRvqz5193GbSpk+zwQbaMWr+1lE3vIFnv4tz58xqReb+KVH1OzvnwchhKy5SywHb9vqp6453qit69dydJvwDeFGKCSJSGRJvwwjLUfAjosjMV3J/0rEauqdPO9Xm4rvyPl2fJKWd+mn7QPpXW9z/sXP225PzyNhMWu8H9JD+tn+zZfw/Zc+Dhct7eZXihrpeK9ixxM3qTzM5fK/9jMvZc/r5A1gJ4Q8BD1xXkpSx5rbD2AImCEBqqvFKGQspHx+D4NdP36YXhtC2LEHeRXhs6SJ+1edKjuI1035Ah7RbnSKcleZI3PVOyVmRLYGUuConHedlqnq4iSqvHjj5qKKYAg0NWBt9M6awfni5BGbzjm9UvvFApAwYoTm1gcrI9VyDw7ObMJpZSCATsidM30Mv6ino/JF277lb11fclsmTJ1XLMMZZ88emesloOYmHr9tUf1WyQMA8F9qr2r7riFtEO7iNjth4iY3owY3EgjhJd+VnqRt/79nIp71UiJX1LZU37Slmft1FWdCqRZe1Wy2KenKU8VetZlR4/C2I1u3mvb4lKjjZ5SkwUsV94lcukBryz61H7/Paf7zXgvIF9Ow/f6JzCEzKtKlCdjtJwKK2iqqRDZnrumgC9aZb4CKRpGGEtomotF7Bq/ck0Pz1x+7gqwBl7TqsVSCMNncJZzpOmXRmtrBLjMPu4khO6w6humMV3H5srcWjWAZhNKkBJQ0dAOcI0j3POzlDzL5CWXpGRlrc+O73Dyqz0thvatB24pGLrrnnFPTJ6FfWUoYglhxS3XyLf7vSc/KftsqaXMP44c8NxyyrajX5Z5KB8qhh2uX7EH4ZPCEjg+bD0mKJq52CRwDc/+eSTG2MqGGVmtdMsXbq0Y5TZY8qmNqyioqJx33//vQ4N4yIdElLwv/CFsCqAWjogUDGnc0bxV6MrOsyqTXSJbOosuV/8nxy6bivZsSpL2vJoVbdZLt+3WVb1a+ailcUb18/tVVFV1K6sel2XiqrijlZ1VQM/rgDdCSudC+hbpGf1qXa6GKEQuZJBPJ2Ichp5NLue1uy8OvbT6xTXtyhQHbA3Way2H3teCL2M/arosx5g3FtThuLEeHFqXh093Ey8ZKwhaenLo/krqks7ZqRlFfGy2m+C1ivdSuM1YsO0EC1b/2PeOz/fsWpV0dqBTlqsocr1klYibLuQwB8I+f2oS9v3Gbm0/eJAzxxbr9U9Z44SR+B7+X7TCllRjtZOy8zMzGN/xzJm6du6mX37ckhPr6ioKNYrueTJJz1AHvsHxSVPNHIi5mHVALwAqmzZUdYnopxI7dI0mqXvanmcbc/pKB0zBlcOVhmGPEaATqKs75O14bvFb7WPV7TXN+YDKnJsqDIfRqrU6OFjjrIGjHyy/jlbc1Zn0l9pSPSPqi26UuVpWRHPV1TmlgSqMhr0cXhnqzMqcl1tPelpOawrtfnXJPzKGWm5+vDblBZIr87O6FzbI3TS4wkzS6U8b41s7DKXwUGcxC9oxQUs2eBS/Ft6WKvUhbS8vC5cvNB1irTUPNrIeNuOstfe3051gAodPMhmqmh6NRnERWv6ScfiLtK2PJellz2gssq1+dVWhfbBbKqsLnGVW1Xlfq4yoySHrpI9KnFkaUjHKiMzswSDR0PKqi7PCtD1op/VoJzmpiydOu281aWy/E/OQ2HVTdyCR8O49twQa9yQQcAgYBAwCBgEDAIGAYOAQcAgYBAwCBgEDAIGAYOAQcAgYBAwCBgEDAIGAYOAQcAgYBCIHgF1eAvn6EtGn/OS0DWiLxFdTl3sTd0WFsEnRFckplzjya0+b7/Ax8dUMrrMDu7R5Y4+VzRzTaOX1jCnX/XWK/mJud/Pi4OUX8+7g7sTOtdrVaE23k/qgvBPYD+ucxdydZrPfrAqFq/pbgSqv9CRsB/ytb5+4PJP5J4V4pf0Ij6QH/XWavqJud/Pi9bfz+fdL8y13ilDfoNwH0iMg/28zl7IrzO9w2P0eyFPp5H4QX7gosq1U4iZaekL+VHv8Ir6ibmfz4ufz7vfmIfjn7RxBWEDPA8+3ONa6tBEpw6pl7BfYKvcEngM7AepF/E9cFc/hCPTD1x0ipBibk+fSaF6O1X1E3M/nxe/n3etu1/vqoN9Uoba8PAXRR/sY+ClHtQ2XPZryBsXkhl+vUQuEy5f5ejDvT+8QA88oPry/4rMgz2QqyLqy3bSPBJfKya8h7WiNtXbiLbFL/IS8/p19Pp5CZfvx/MeLl/jXr6r9WXXHkecB1R7tvkjetOUHdKHz5646yQkEIbLPgg5hbDzcDthAuLtejt1vxxBOq9LJ85HnIsVx4XC6z+V8rq6llfDwXDZcVQt6iIfkPPYEEecaxq1pObP6DXm4S3w43kJl+/H8x4uX+Nevqv1ZafEsQKgy6fo3EQ1LvtFXiir+nXTB1DXJdK6H1X/pAfHWudwjntCrktdwmW7ZIkr2e+5pn7VWxsbLlvjXmLu9/MSfrO07l6TymyOd9Xreht5BgGDgEHAIGAQMAgYBAwCBgGDgEHAIGAQMAgYBAwCBgGDgEHAIGAQMAgYBAwCBgGDgEHAIGAQMAgYBAwCBgGDgEGg1SHw/9agBhfydzLXAAAAAElFTkSuQmCC)\n",
        "- The kurtosis of a normal distribution is 0.\n",
        "- If a given distribution has a kurtosis is negative, it is said to be playkurtic, which means it tends to produce fewer and less extreme outliers than the normal distribution.\n",
        "- If a given distribution has a kurtosis positive, it is said to be leptokurtic, which means it tends to produce more outliers than the normal distribution.\n",
        "\n",
        "`NOTE that the Skewness and Kurtosis values are the same for original raw data and after subtracting the mean`"
      ]
    },
    {
      "cell_type": "markdown",
      "id": "be8ea88b",
      "metadata": {
        "id": "be8ea88b"
      },
      "source": [
        "Let's see the data distribution and the Skewness and kurtosis calculation"
      ]
    },
    {
      "cell_type": "code",
      "execution_count": null,
      "id": "34b2ac11",
      "metadata": {
        "colab": {
          "base_uri": "https://localhost:8080/",
          "height": 241
        },
        "id": "34b2ac11",
        "outputId": "6985fbdd-6a9d-4274-dba8-60805249dc48"
      },
      "outputs": [],
      "source": [
        "fig, axes = plt.subplots(nrows=1, ncols=3, figsize=(10, 3))\n",
        "sns.kdeplot(accX, fill=True, ax=axes[0])\n",
        "sns.kdeplot(accY, fill=True, ax=axes[1])\n",
        "sns.kdeplot(accZ, fill=True, ax=axes[2])\n",
        "axes[0].set_title('accX')\n",
        "axes[1].set_title('accY')\n",
        "axes[2].set_title('accZ')\n",
        "plt.suptitle('IMU Sensors distribution', fontsize=16, y=1.02)\n",
        "plt.show()"
      ]
    },
    {
      "cell_type": "code",
      "execution_count": null,
      "id": "da8c0c2a",
      "metadata": {
        "colab": {
          "base_uri": "https://localhost:8080/"
        },
        "id": "da8c0c2a",
        "outputId": "ef7b6b89-aa3b-4604-90c5-967fe2934ef8"
      },
      "outputs": [],
      "source": [
        "skew_list = [skew(x, bias=False) for x in sensors]\n",
        "[print('skew_'+x+'= ', round(y, 4)) for x,y in zip(axis, skew_list)][0]"
      ]
    },
    {
      "cell_type": "code",
      "execution_count": null,
      "id": "YFIuG_dCtWkM",
      "metadata": {
        "colab": {
          "base_uri": "https://localhost:8080/"
        },
        "id": "YFIuG_dCtWkM",
        "outputId": "9669e294-69d4-4354-d542-1bc33d0b542b"
      },
      "outputs": [],
      "source": [
        "# Compare with Edge Impulse result features\n",
        "features[1:N_feat:N_feat_axis]"
      ]
    },
    {
      "cell_type": "code",
      "execution_count": null,
      "id": "3cedd27b",
      "metadata": {
        "colab": {
          "base_uri": "https://localhost:8080/"
        },
        "id": "3cedd27b",
        "outputId": "86782577-7d17-493b-8d43-3a01b982fe0e"
      },
      "outputs": [],
      "source": [
        "kurt = [kurtosis(x, bias=False) for x in sensors]\n",
        "[print('kurt_'+x+'= ', round(y, 4)) for x,y in zip(axis, kurt)][0]"
      ]
    },
    {
      "cell_type": "code",
      "execution_count": null,
      "id": "rGuwkpW0vMBG",
      "metadata": {
        "colab": {
          "base_uri": "https://localhost:8080/"
        },
        "id": "rGuwkpW0vMBG",
        "outputId": "7bf5b69a-a8cd-42dc-a56d-6a20d8f97712"
      },
      "outputs": [],
      "source": [
        "# Compare with Edge Impulse result features\n",
        "features[2:N_feat:N_feat_axis]"
      ]
    },
    {
      "cell_type": "markdown",
      "id": "183fdcb6",
      "metadata": {
        "id": "183fdcb6"
      },
      "source": [
        "## Spectral features"
      ]
    },
    {
      "cell_type": "code",
      "execution_count": null,
      "id": "_60YBnyVf5fi",
      "metadata": {
        "colab": {
          "base_uri": "https://localhost:8080/"
        },
        "id": "_60YBnyVf5fi",
        "outputId": "a0e74841-0914-4aaf-d05e-83a3f41a1eb5",
        "tags": []
      },
      "outputs": [],
      "source": [
        "FFT_Lenght = 16 \n",
        "fs = f \n",
        "print (f\"Sample Frequency: {f}Hz\")"
      ]
    },
    {
      "cell_type": "markdown",
      "id": "7FPyaZAjwtaF",
      "metadata": {
        "id": "7FPyaZAjwtaF"
      },
      "source": [
        "Once the sampled window usually is larger than the FFT size, the window will be broken into frames (or \"sub-windows\"), and the FFT is calculated from each frame.\n",
        "\n",
        "**FFT length** - The FFT size. This determines the number of FFT bins as well as the resolution of frequency peaks that you can separate. A lower number means more signals will average together in the same FFT bin, but also reduces the number of features and model size. A higher number will separate more signals into separate bins, but generates a larger model."
      ]
    },
    {
      "cell_type": "markdown",
      "id": "-rllK8OXkXYk",
      "metadata": {
        "id": "-rllK8OXkXYk"
      },
      "source": [
        "### Spectral Power - Welch’s method \n",
        "https://docs.scipy.org/doc/scipy-0.14.0/reference/generated/scipy.signal.welch.html"
      ]
    },
    {
      "cell_type": "markdown",
      "id": "fC2DemonkhnW",
      "metadata": {
        "id": "fC2DemonkhnW"
      },
      "source": [
        "To split the signal on frequency domain in bins and calculate the power spectrum for each bin, we should use a method called **Welch’s method**. \n",
        "\n",
        "This method divides the signal into overlapping segments, applies a window function to each segment, computes the periodogram of each segment using DFT, and averages them to obtain a smoother estimate of the power spectrum. "
      ]
    },
    {
      "cell_type": "code",
      "execution_count": null,
      "id": "73bBFr33kjQw",
      "metadata": {
        "id": "73bBFr33kjQw"
      },
      "outputs": [],
      "source": [
        "# Function used by Edge Impulse insteady scipy.signal.welch().\n",
        "def welch_max_hold(fx, sampling_freq, nfft, n_overlap):\n",
        "    n_overlap = int(n_overlap)\n",
        "    spec_powers = [0 for _ in range(nfft//2+1)]\n",
        "    ix = 0\n",
        "    while ix <= len(fx):\n",
        "        # Slicing truncates if end_idx > len, and rfft will auto zero pad\n",
        "        fft_out = np.abs(np.fft.rfft(fx[ix:ix+nfft], nfft))\n",
        "        spec_powers = np.maximum(spec_powers, fft_out**2/nfft)\n",
        "        ix = ix + (nfft-n_overlap)\n",
        "    return np.fft.rfftfreq(nfft, 1/sampling_freq), spec_powers"
      ]
    },
    {
      "cell_type": "code",
      "execution_count": null,
      "id": "3OunOKPfkr1m",
      "metadata": {
        "id": "3OunOKPfkr1m"
      },
      "outputs": [],
      "source": [
        "fax,Pax = welch_max_hold(accX, fs, FFT_Lenght, 0)\n",
        "fay,Pay = welch_max_hold(accY, fs, FFT_Lenght, 0)\n",
        "faz,Paz = welch_max_hold(accZ, fs, FFT_Lenght, 0)"
      ]
    },
    {
      "cell_type": "code",
      "execution_count": null,
      "id": "lG4LQEBBLeG8",
      "metadata": {
        "id": "lG4LQEBBLeG8"
      },
      "outputs": [],
      "source": [
        "specs = [Pax, Pay, Paz ]"
      ]
    },
    {
      "cell_type": "markdown",
      "id": "yO-4ISLPlB1r",
      "metadata": {
        "id": "yO-4ISLPlB1r"
      },
      "source": [
        "Note that since we subtract the mean at the begining, bin 0 (DC) will always be ~0, so we skip it (p[1:])\n",
        "\n"
      ]
    },
    {
      "cell_type": "code",
      "execution_count": null,
      "id": "0wFDFhrElTzd",
      "metadata": {
        "colab": {
          "base_uri": "https://localhost:8080/",
          "height": 404
        },
        "id": "0wFDFhrElTzd",
        "outputId": "74e05f74-c29e-4ff4-ca21-12873e7f8fd3"
      },
      "outputs": [],
      "source": [
        "# Plot power spectrum versus frequency \n",
        "# Since we subtract the mean at the begining, bin 0 (DC) will always be ~0, so skip it\n",
        "plt.plot(fax,Pax, label='accX')\n",
        "plt.plot(fay,Pay, label='accY')\n",
        "plt.plot(faz,Paz, label='accZ')\n",
        "\n",
        "plt.legend(loc='upper right')\n",
        "plt.xlabel('Frequency (Hz)')\n",
        "#plt.ylabel('PSD [V**2/Hz]')\n",
        "plt.ylabel('Power')\n",
        "plt.title('Power spectrum P(f) using Welch\\'s method')\n",
        "plt.grid()\n",
        "plt.box(False)\n",
        "plt.show()"
      ]
    },
    {
      "cell_type": "code",
      "execution_count": null,
      "id": "58dqjFtON8uF",
      "metadata": {
        "colab": {
          "base_uri": "https://localhost:8080/"
        },
        "id": "58dqjFtON8uF",
        "outputId": "3023bc6b-60a8-4d66-b2af-01162e9473d5"
      },
      "outputs": [],
      "source": [
        "print(\"\\nCalculated Spectral Power features for accX:\")\n",
        "[print(round(x, 4)) for x in Pax[1:]][0]"
      ]
    },
    {
      "cell_type": "code",
      "execution_count": null,
      "id": "wBd0GbKoOHjF",
      "metadata": {
        "colab": {
          "base_uri": "https://localhost:8080/"
        },
        "id": "wBd0GbKoOHjF",
        "outputId": "7586597d-b2ac-451e-bd42-6ec741a57dca"
      },
      "outputs": [],
      "source": [
        "print(\"\\nCalculated Spectral Power features for accY:\")\n",
        "[print(round(x, 4)) for x in Pay[1:]][0]"
      ]
    },
    {
      "cell_type": "code",
      "execution_count": null,
      "id": "N6jVyZVkOMYL",
      "metadata": {
        "colab": {
          "base_uri": "https://localhost:8080/"
        },
        "id": "N6jVyZVkOMYL",
        "outputId": "4b6e1f73-96d8-4f4d-db0c-0ff143c6af25"
      },
      "outputs": [],
      "source": [
        "print(\"\\nCalculated Spextral Power features for accZ:\")\n",
        "[print(round(x, 4)) for x in Paz[1:]][0]"
      ]
    },
    {
      "cell_type": "markdown",
      "id": "2NNANuOvIfbs",
      "metadata": {
        "id": "2NNANuOvIfbs"
      },
      "source": [
        "### Spectral Skewness and Kurtosis"
      ]
    },
    {
      "cell_type": "code",
      "execution_count": null,
      "id": "RbnxoKqELPSC",
      "metadata": {
        "colab": {
          "base_uri": "https://localhost:8080/"
        },
        "id": "RbnxoKqELPSC",
        "outputId": "10f45602-57da-4993-d394-b2dbf86111e4"
      },
      "outputs": [],
      "source": [
        "spec_skew = [skew(x, bias=False) for x in specs]\n",
        "[print('spectral_skew_'+x+'= ', round(y, 4)) for x,y in zip(axis, spec_skew)][0]"
      ]
    },
    {
      "cell_type": "code",
      "execution_count": null,
      "id": "Ntt_sJ88MD32",
      "metadata": {
        "colab": {
          "base_uri": "https://localhost:8080/"
        },
        "id": "Ntt_sJ88MD32",
        "outputId": "df3ba351-941f-4805-d16c-0435371c4df1"
      },
      "outputs": [],
      "source": [
        "spec_kurtosis = [kurtosis(x, bias=False) for x in specs]\n",
        "[print('spectral_kurtosis_'+x+'= ', round(y, 4)) for x,y in zip(axis, spec_kurtosis)][0]"
      ]
    },
    {
      "cell_type": "markdown",
      "id": "SNEXhifIxGQh",
      "metadata": {
        "id": "SNEXhifIxGQh"
      },
      "source": [
        "### List Spectral features per axis and compare with EI"
      ]
    },
    {
      "cell_type": "code",
      "execution_count": null,
      "id": "lBczQwOcw0Kn",
      "metadata": {
        "colab": {
          "base_uri": "https://localhost:8080/"
        },
        "id": "lBczQwOcw0Kn",
        "outputId": "15db3128-4161-44bd-d344-3fa5ed12660a"
      },
      "outputs": [],
      "source": [
        "print(\"EI Processed Spectral features (accX): \")\n",
        "print(features[3:N_feat_axis][0:])\n",
        "print(\"\\nCalculated features:\")\n",
        "print (round(spec_skew[0],4))\n",
        "print (round(spec_kurtosis[0],4))\n",
        "[print(round(x, 4)) for x in Pax[1:]][0]"
      ]
    },
    {
      "cell_type": "code",
      "execution_count": null,
      "id": "jiSJ7_4_QSOK",
      "metadata": {
        "colab": {
          "base_uri": "https://localhost:8080/"
        },
        "id": "jiSJ7_4_QSOK",
        "outputId": "25b28309-a74d-415b-bbc6-6db4bac66512"
      },
      "outputs": [],
      "source": [
        "print(\"EI Processed Spectral features (accY): \")\n",
        "print(features[16:26][0:]) #13: 3+N_feat_axis;  26 = 2x N_feat_axis\n",
        "print(\"\\nCalculated features:\")\n",
        "print (round(spec_skew[1],4))\n",
        "print (round(spec_kurtosis[1],4))\n",
        "[print(round(x, 4)) for x in Pay[1:]][0]"
      ]
    },
    {
      "cell_type": "code",
      "execution_count": null,
      "id": "mi9QLDR5QxOP",
      "metadata": {
        "colab": {
          "base_uri": "https://localhost:8080/"
        },
        "id": "mi9QLDR5QxOP",
        "outputId": "3e65864b-396e-413f-c360-f240823e3d1b"
      },
      "outputs": [],
      "source": [
        "print(\"EI Processed Spectral features (accZ): \")\n",
        "print(features[29:][0:]) #29: 3+(2*N_feat_axis); \n",
        "print(\"\\nCalculated features:\")\n",
        "print (round(spec_skew[2],4))\n",
        "print (round(spec_kurtosis[2],4))\n",
        "[print(round(x, 4)) for x in Paz[1:]][0]"
      ]
    },
    {
      "cell_type": "markdown",
      "id": "HxFAJmpsSk7v",
      "metadata": {
        "id": "HxFAJmpsSk7v"
      },
      "source": [
        "# Wavelets"
      ]
    },
    {
      "cell_type": "markdown",
      "id": "ZqelQwmVTC1z",
      "metadata": {
        "id": "ZqelQwmVTC1z"
      },
      "source": [
        "<figure>\n",
        "    <center> <img src=\"https://github.com/fabiobento/continuous-motion-recognition/raw/main/images/wavelets-features.png\"  alt='missing' width=\"800\"  ><center/>\n",
        "<figure/>"
      ]
    },
    {
      "cell_type": "code",
      "execution_count": null,
      "id": "fGCva_VrSts2",
      "metadata": {
        "id": "fGCva_VrSts2"
      },
      "outputs": [],
      "source": [
        "wavelet_name='bior1.3'\n",
        "num_layer = 1"
      ]
    },
    {
      "cell_type": "code",
      "execution_count": null,
      "id": "r47Gw6O1TT-B",
      "metadata": {
        "colab": {
          "base_uri": "https://localhost:8080/",
          "height": 404
        },
        "id": "r47Gw6O1TT-B",
        "outputId": "fefa8c68-9765-4f1c-b285-a7dda71122a1"
      },
      "outputs": [],
      "source": [
        "wavelet = pywt.Wavelet(wavelet_name)\n",
        "[phi_d,psi_d,phi_r,psi_r,x] = wavelet.wavefun(level=5)\n",
        "plt.plot(x, psi_d, color='red')\n",
        "plt.title('Wavelet Function')\n",
        "plt.ylabel('Value')\n",
        "plt.xlabel('Time')\n",
        "plt.grid()\n",
        "plt.box(False)\n",
        "plt.show()"
      ]
    },
    {
      "cell_type": "code",
      "execution_count": null,
      "id": "OzbFlhaZTWOR",
      "metadata": {
        "id": "OzbFlhaZTWOR"
      },
      "outputs": [],
      "source": [
        "# Processed Features\n",
        "\n",
        "features = [3.6251, 0.0615, 0.0615, -7.3517, -2.7641, 2.8462, 5.0924, 0.4063, -0.2133, 3.8473, 15.0327, 3.8532, -0.2905, -0.7966, 3.3929, 0.5231, 0.5538, -1.3234, -0.2743, 0.5206, 1.4599, 0.1350, 0.1264, 0.9544, 0.9250, 0.9627, 0.6358, 3.0473, 3.6597, 0.3077, 0.3077, -1.3234, -0.6492, 0.7844, 1.3610, 0.0659, 0.0276, 0.9345, 0.8868, 0.9349, 0.2807, -0.0589, 3.1609, 0.5385, 0.5385, -0.5356, -0.2709, 0.2298, 0.8409, -0.0830, -0.0377, 0.6040, 0.3706, 0.6052, -2.2028, 13.7548, 3.1061, 0.4000, 0.3692, -0.1126, -0.0494, 0.0347, 0.1022, -0.0137, 0.0025, 0.1053, 0.0113, 0.1053, 4.3072, 26.4113, 2.6219, 0.4462, 0.3385, -0.1122, -0.0250, 0.0233, 0.0793, 0.0008, -0.0183, 0.1529, 0.0237, 0.1540, -6.3676, 44.9559]\n",
        "N_feat = len(features)\n",
        "N_feat_axis = int(N_feat/n_sensors)"
      ]
    },
    {
      "cell_type": "code",
      "execution_count": null,
      "id": "S2LyehB1TiuC",
      "metadata": {
        "colab": {
          "base_uri": "https://localhost:8080/"
        },
        "id": "S2LyehB1TiuC",
        "outputId": "2e216b4d-5f27-41d2-f5b5-626f7327bd26"
      },
      "outputs": [],
      "source": [
        "print(f' - Total Number of features without filtering: {N_feat}')\n",
        "print(f' - Total Number of features per layer: {int(N_feat/(num_layer+1))}')\n",
        "print(f' - Total Number of features per axis per layer: {N_feat_axis}')"
      ]
    },
    {
      "cell_type": "code",
      "execution_count": null,
      "id": "BlDv3jYsUk3a",
      "metadata": {
        "id": "BlDv3jYsUk3a"
      },
      "outputs": [],
      "source": [
        "(accX_l1, accX_f) = pywt.dwt(accX, wavelet_name)\n",
        "(accY_l1, accY_f) = pywt.dwt(accY, wavelet_name)\n",
        "(accZ_l1, accZ_f) = pywt.dwt(accZ, wavelet_name)\n",
        "sensors_l1 = [accX_l1, accY_l1, accZ_l1]"
      ]
    },
    {
      "cell_type": "code",
      "execution_count": null,
      "id": "XHEOhy5FUzSW",
      "metadata": {
        "colab": {
          "base_uri": "https://localhost:8080/",
          "height": 404
        },
        "id": "XHEOhy5FUzSW",
        "outputId": "76905130-5394-48cd-c2c4-756b6fe83f82"
      },
      "outputs": [],
      "source": [
        "# Plot power spectrum versus frequency \n",
        "# Since we subtract the mean at the begining, bin 0 (DC) will always be ~0, so skip it\n",
        "plt.plot(accX_l1, label='accX')\n",
        "plt.plot(accY_l1, label='accY')\n",
        "plt.plot(accZ_l1, label='accZ')\n",
        "plt.legend(loc='lower right')\n",
        "plt.xlabel('Time')\n",
        "plt.ylabel('Value')\n",
        "plt.title('Wavelet Approximation')\n",
        "plt.grid()\n",
        "plt.box(False)\n",
        "plt.show()"
      ]
    },
    {
      "cell_type": "markdown",
      "id": "qQoRiAOfU-a5",
      "metadata": {
        "id": "qQoRiAOfU-a5"
      },
      "source": [
        "##  Feature Extraction Functions"
      ]
    },
    {
      "cell_type": "code",
      "execution_count": null,
      "id": "hyccRgIqVDEz",
      "metadata": {
        "id": "hyccRgIqVDEz"
      },
      "outputs": [],
      "source": [
        "def calculate_statistics(signal):\n",
        "    n5 = np.percentile(signal, 5)\n",
        "    n25 = np.percentile(signal, 25)\n",
        "    n75 = np.percentile(signal, 75)\n",
        "    n95 = np.percentile(signal, 95)\n",
        "    median = np.percentile(signal, 50)\n",
        "    mean = np.mean(signal)\n",
        "    std = np.std(signal)\n",
        "    var = np.var(signal)\n",
        "    rms = np.sqrt(np.mean(np.square(signal)))\n",
        "    return [n5, n25, n75, n95, median, mean, std, var, rms]"
      ]
    },
    {
      "cell_type": "code",
      "execution_count": null,
      "id": "qiiijJdzVEPD",
      "metadata": {
        "id": "qiiijJdzVEPD"
      },
      "outputs": [],
      "source": [
        "stat_feat_l0 = [calculate_statistics(x) for x in sensors]\n",
        "stat_feat_l1 = [calculate_statistics(x) for x in sensors_l1]"
      ]
    },
    {
      "cell_type": "code",
      "execution_count": null,
      "id": "fsj5WkSlVN_d",
      "metadata": {
        "colab": {
          "base_uri": "https://localhost:8080/"
        },
        "id": "fsj5WkSlVN_d",
        "outputId": "3ff3a00a-48ab-4117-e7bf-fbdae9f95b1d"
      },
      "outputs": [],
      "source": [
        "print (f\"feat_l0 or l_1 has {len(stat_feat_l0[0])} statistical features for each of the {len(stat_feat_l0)} axis\")"
      ]
    },
    {
      "cell_type": "code",
      "execution_count": null,
      "id": "Oam8H1mJVSha",
      "metadata": {
        "id": "Oam8H1mJVSha"
      },
      "outputs": [],
      "source": [
        "skew_l0 = [skew(x, bias=False) for x in sensors]\n",
        "skew_l1 = [skew(x, bias=False) for x in sensors_l1]\n",
        "kurtosis_l0 = [kurtosis(x, bias=False) for x in sensors]\n",
        "kurtosis_l1 = [kurtosis(x, bias=False) for x in sensors_l1]"
      ]
    },
    {
      "cell_type": "code",
      "execution_count": null,
      "id": "JkQny2SyVYCm",
      "metadata": {
        "id": "JkQny2SyVYCm"
      },
      "outputs": [],
      "source": [
        "def getZeroCrossingRate(arr):\n",
        "    my_array = np.array(arr)\n",
        "    zcross = float(\"{0:.2f}\".format((((my_array[:-1] * my_array[1:]) < 0).sum())/len(arr))) \n",
        "    return zcross\n",
        "\n",
        "def getMeanCrossingRate(arr):\n",
        "    mcross = getZeroCrossingRate(np.array(arr) - np.mean(arr))\n",
        "    return mcross"
      ]
    },
    {
      "cell_type": "code",
      "execution_count": null,
      "id": "W4KmISdkVbPN",
      "metadata": {
        "id": "W4KmISdkVbPN"
      },
      "outputs": [],
      "source": [
        "def calculate_crossings(list):\n",
        "    zcross=[]\n",
        "    mcross=[]\n",
        "    for i in range(len(list)):\n",
        "        zcross_i = getZeroCrossingRate(list[i])\n",
        "        zcross.append(zcross_i)\n",
        "        mcross_i = getMeanCrossingRate(list[i])\n",
        "        mcross.append(mcross_i)\n",
        "    return zcross, mcross   "
      ]
    },
    {
      "cell_type": "code",
      "execution_count": null,
      "id": "m5ff8X_AVez9",
      "metadata": {
        "colab": {
          "base_uri": "https://localhost:8080/"
        },
        "id": "m5ff8X_AVez9",
        "outputId": "7048533b-2b93-4ff9-90e9-f63fdc6040e5"
      },
      "outputs": [],
      "source": [
        "calculate_crossings(sensors_l1)"
      ]
    },
    {
      "cell_type": "code",
      "execution_count": null,
      "id": "sqKV7_hyVgjb",
      "metadata": {
        "id": "sqKV7_hyVgjb"
      },
      "outputs": [],
      "source": [
        "cross_l0 = calculate_crossings(sensors)\n",
        "cross_l1 = calculate_crossings(sensors_l1)"
      ]
    },
    {
      "cell_type": "code",
      "execution_count": null,
      "id": "hKZ7-tQ_VkLD",
      "metadata": {
        "id": "hKZ7-tQ_VkLD"
      },
      "outputs": [],
      "source": [
        "def calculate_entropy(signal, base=None):\n",
        "    value, counts = np.unique(signal, return_counts=True)\n",
        "    return entropy(counts, base=base)"
      ]
    },
    {
      "cell_type": "code",
      "execution_count": null,
      "id": "j8nD88a4WG52",
      "metadata": {
        "id": "j8nD88a4WG52"
      },
      "outputs": [],
      "source": [
        "entropy_l0 = [calculate_entropy(x) for x in sensors]\n",
        "entropy_l1 = [calculate_entropy(x) for x in sensors_l1]"
      ]
    },
    {
      "cell_type": "code",
      "execution_count": null,
      "id": "NIWjB9-sVsfd",
      "metadata": {
        "id": "NIWjB9-sVsfd"
      },
      "outputs": [],
      "source": [
        "L1_features_names = [\"L1-n5\", \"L1-n25\", \"L1-n75\", \"L1-n95\", \"L1-median\", \"L1-mean\", \"L1-std\", \"L1-var\", \"L1-rms\", \"L1-skew\", \"L1-Kurtosis\", \"L1-zcross\", \"L1-mcross\", \"L1-entropy\"]\n",
        "L0_features_names = [\"L0-n5\", \"L0-n25\", \"L0-n75\", \"L0-n95\", \"L0-median\", \"L0-mean\", \"L0-std\", \"L0-var\", \"L0-rms\", \"L0-skew\", \"L0-Kurtosis\", \"L0-zcross\", \"L0-mcross\", \"L0-entropy\"]"
      ]
    },
    {
      "cell_type": "code",
      "execution_count": null,
      "id": "0L4BKZfrVuu3",
      "metadata": {
        "colab": {
          "base_uri": "https://localhost:8080/"
        },
        "id": "0L4BKZfrVuu3",
        "outputId": "cd1f2d3a-14ff-4201-f859-83e18e2b15c5"
      },
      "outputs": [],
      "source": [
        "len(L1_features_names)"
      ]
    },
    {
      "cell_type": "markdown",
      "id": "bhJkD58BV4kj",
      "metadata": {
        "id": "bhJkD58BV4kj"
      },
      "source": [
        "### List all weavelets features and create a list by layers"
      ]
    },
    {
      "cell_type": "code",
      "execution_count": null,
      "id": "acaOPUMdVx5P",
      "metadata": {
        "colab": {
          "base_uri": "https://localhost:8080/"
        },
        "id": "acaOPUMdVx5P",
        "outputId": "24dfc538-4a69-4aa6-c700-b882e7970853"
      },
      "outputs": [],
      "source": [
        "all_feat_l0 = []\n",
        "for i in range(len(axis)):\n",
        "    feat_l0 = stat_feat_l0[i]+[skew_l0[i]]+[kurtosis_l0[i]]+[cross_l0[0][i]]+[cross_l0[1][i]]+[entropy_l0[i]]\n",
        "    [print(axis[i]+' '+x+'= ', round(y, 4)) for x,y in zip(L0_features_names, feat_l0)][0]\n",
        "    all_feat_l0.append(feat_l0)\n",
        "all_feat_l0 = [item for sublist in all_feat_l0 for item in sublist]\n",
        "print(f\"\\nAll L0 Features = {len(all_feat_l0)}\")"
      ]
    },
    {
      "cell_type": "code",
      "execution_count": null,
      "id": "uhMyLhogWKv7",
      "metadata": {
        "colab": {
          "base_uri": "https://localhost:8080/"
        },
        "id": "uhMyLhogWKv7",
        "outputId": "093d7ae6-c6ab-4351-c4ec-13635ddb4fe5"
      },
      "outputs": [],
      "source": [
        "all_feat_l1 = []\n",
        "for i in range(len(axis)):\n",
        "    feat_l1 = stat_feat_l1[i]+[skew_l1[i]]+[kurtosis_l1[i]]+[cross_l1[0][i]]+[cross_l1[1][i]]+[entropy_l1[i]]\n",
        "    [print(axis[i]+' '+x+'= ', round(y, 4)) for x,y in zip(L1_features_names, feat_l1)][0]\n",
        "    all_feat_l1.append(feat_l1)\n",
        "all_feat_l1 = [item for sublist in all_feat_l1 for item in sublist]\n",
        "print(f\"\\nAll L1 Features = {len(all_feat_l1)}\")"
      ]
    },
    {
      "cell_type": "code",
      "execution_count": null,
      "id": "tSUdFHqxWRUb",
      "metadata": {
        "colab": {
          "base_uri": "https://localhost:8080/"
        },
        "id": "tSUdFHqxWRUb",
        "outputId": "8775fdfa-45a4-4e9f-d38a-2dee1d401689"
      },
      "outputs": [],
      "source": [
        "feat = all_feat_l0+all_feat_l1\n",
        "len(feat)"
      ]
    }
  ],
  "metadata": {
    "colab": {
      "provenance": []
    },
    "gpuClass": "standard",
    "kernelspec": {
      "display_name": "Python 3",
      "name": "python3"
    },
    "language_info": {
      "codemirror_mode": {
        "name": "ipython",
        "version": 3
      },
      "file_extension": ".py",
      "mimetype": "text/x-python",
      "name": "python",
      "nbconvert_exporter": "python",
      "pygments_lexer": "ipython3",
      "version": "3.11.0"
    }
  },
  "nbformat": 4,
  "nbformat_minor": 5
}
